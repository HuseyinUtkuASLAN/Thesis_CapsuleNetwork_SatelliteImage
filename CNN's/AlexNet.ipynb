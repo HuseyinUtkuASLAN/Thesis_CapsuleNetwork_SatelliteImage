{
 "cells": [
  {
   "cell_type": "markdown",
   "metadata": {},
   "source": [
    "# AlexNet\n",
    "\n",
    "Alexnet is a convolution neural network the competed in ImageNet Large Scale Visual Recognition Challenge in 2012. It uses features like convolution, max pooling, LRN, dropout etc. For more information [ImageNet Classification with Deep Convolutional Neural Networks](https://papers.nips.cc/paper/4824-imagenet-classification-with-deep-convolutional-neural-networks.pdf) by Alex Krizhevsky, Ilya Sutskever and Geoffrey E. Hinton\n",
    "\n",
    "## Architecture\n",
    "input -> conv11-96 -> maxpooling -> LRN -> conv5-256 -> maxpooling -> LRN -> conv3-384 -> conv3-384 -> conv3-256 -> maxpooling -> LRN -> flatten -> fc4096 -> dropout -> fc4096 -> dropout -> output\n",
    "\n",
    "### Note :\n",
    "Because of the small image sizes, paddings are changed to \"SAME\"."
   ]
  },
  {
   "cell_type": "code",
   "execution_count": 1,
   "metadata": {},
   "outputs": [
    {
     "name": "stderr",
     "output_type": "stream",
     "text": [
      "Using TensorFlow backend.\n"
     ]
    }
   ],
   "source": [
    "from keras.models import Sequential\n",
    "from keras.layers.core import Flatten, Dense, Dropout\n",
    "from keras.layers.convolutional import Convolution2D, MaxPooling2D\n",
    "from keras.layers.normalization import BatchNormalization\n",
    "from keras.layers import Input\n",
    "from keras.layers import Activation\n",
    "from keras.models import Model\n",
    "from keras.utils import to_categorical\n",
    "from keras.optimizers import SGD\n",
    "from keras.callbacks import TensorBoard"
   ]
  },
  {
   "cell_type": "code",
   "execution_count": 2,
   "metadata": {},
   "outputs": [],
   "source": [
    "from data import get_data_set"
   ]
  },
  {
   "cell_type": "code",
   "execution_count": 3,
   "metadata": {},
   "outputs": [],
   "source": [
    "# Args\n",
    "save_dir = \"./results\"\n",
    "batch_size = 64\n",
    "epochs = 100\n",
    "lr=0.001\n",
    "decay=0.0005\n",
    "momentum=0.9\n",
    "log_dir = \"./tensorboard/alexnet_9x9_12/\"\n",
    "# originals\n",
    "# save_dir = \"./results\"\n",
    "# batch_size = 50\n",
    "# epochs = 50\n",
    "# lr=0.01\n",
    "# decay=0.0005\n",
    "# momentum=0.9"
   ]
  },
  {
   "cell_type": "code",
   "execution_count": 4,
   "metadata": {},
   "outputs": [
    {
     "data": {
      "text/plain": [
       "(404, 9, 9, 12)"
      ]
     },
     "execution_count": 4,
     "metadata": {},
     "output_type": "execute_result"
    }
   ],
   "source": [
    "X_train,Y_train = get_data_set(\"train\",input_path = \"../input/data_9x9_12band/\",one_hot = True)\n",
    "X_test,Y_test = get_data_set(\"test\",input_path = \"../input/data_9x9_12band/\", one_hot = True)\n",
    "\n",
    "X_train.shape"
   ]
  },
  {
   "cell_type": "code",
   "execution_count": null,
   "metadata": {},
   "outputs": [],
   "source": []
  },
  {
   "cell_type": "code",
   "execution_count": 5,
   "metadata": {},
   "outputs": [],
   "source": [
    "tensorboard = TensorBoard(log_dir=log_dir,batch_size=batch_size)"
   ]
  },
  {
   "cell_type": "markdown",
   "metadata": {},
   "source": [
    "# Custome LRN or Batch normalization\n",
    "\n",
    "There are no local response normalization layer in Keras' latest version when this code is written. Instead of LRN, batch normalization is used. \n",
    "A custom LRN can be implemented if needed. An implementation example can be found in the [link](https://joelouismarino.github.io/blog_posts/blog_googlenet_keras.html)"
   ]
  },
  {
   "cell_type": "code",
   "execution_count": null,
   "metadata": {},
   "outputs": [],
   "source": []
  },
  {
   "cell_type": "markdown",
   "metadata": {},
   "source": [
    "# Model"
   ]
  },
  {
   "cell_type": "code",
   "execution_count": 6,
   "metadata": {},
   "outputs": [
    {
     "data": {
      "text/plain": [
       "<tf.Tensor 'input_1:0' shape=(?, 9, 9, 12) dtype=float32>"
      ]
     },
     "execution_count": 6,
     "metadata": {},
     "output_type": "execute_result"
    }
   ],
   "source": [
    "inputs = Input(X_train.shape[1:])\n",
    "inputs"
   ]
  },
  {
   "cell_type": "code",
   "execution_count": 7,
   "metadata": {},
   "outputs": [
    {
     "data": {
      "text/plain": [
       "<tf.Tensor 'norm_1/cond/Merge:0' shape=(?, 2, 2, 96) dtype=float32>"
      ]
     },
     "execution_count": 7,
     "metadata": {},
     "output_type": "execute_result"
    }
   ],
   "source": [
    "conv_1 = Convolution2D(96, kernel_size =(11, 11), strides=(4, 4), padding='same', activation='relu',\n",
    "                           name='conv_1')(inputs)\n",
    "conv_1 = MaxPooling2D((3, 3), strides=(2, 2), padding='same')(conv_1)\n",
    "norm_1 = BatchNormalization(name=\"norm_1\")(conv_1)\n",
    "norm_1"
   ]
  },
  {
   "cell_type": "code",
   "execution_count": 8,
   "metadata": {},
   "outputs": [
    {
     "data": {
      "text/plain": [
       "<tf.Tensor 'norm_2/cond/Merge:0' shape=(?, 1, 1, 256) dtype=float32>"
      ]
     },
     "execution_count": 8,
     "metadata": {},
     "output_type": "execute_result"
    }
   ],
   "source": [
    "conv_2 = Convolution2D(256, kernel_size =(5, 5), strides=(1, 1), padding='same', activation='relu',\n",
    "                           name='conv_2')(norm_1)\n",
    "conv_2 = MaxPooling2D((3, 3), strides=(2, 2),padding = \"same\")(conv_2)\n",
    "norm_2 = BatchNormalization(name=\"norm_2\")(conv_2)\n",
    "norm_2"
   ]
  },
  {
   "cell_type": "code",
   "execution_count": 9,
   "metadata": {},
   "outputs": [
    {
     "data": {
      "text/plain": [
       "<tf.Tensor 'norm_3/cond/Merge:0' shape=(?, 1, 1, 256) dtype=float32>"
      ]
     },
     "execution_count": 9,
     "metadata": {},
     "output_type": "execute_result"
    }
   ],
   "source": [
    "conv_3 = Convolution2D(384, kernel_size =(3, 3), strides=(1, 1), padding='same', activation='relu',\n",
    "                           name='conv_3')(conv_2)\n",
    "conv_4 = Convolution2D(384, kernel_size =(3, 3), strides=(1, 1), padding='same', activation='relu',\n",
    "                           name='conv_4')(conv_3)\n",
    "conv_5 = Convolution2D(256, kernel_size =(3, 3), strides=(1, 1), padding='same', activation='relu',\n",
    "                           name='conv_5')(conv_4)\n",
    "conv_5 = MaxPooling2D((3, 3), strides=(2, 2), padding='same')(conv_5)\n",
    "norm_3 = BatchNormalization(name=\"norm_3\")(conv_5)\n",
    "norm_3"
   ]
  },
  {
   "cell_type": "markdown",
   "metadata": {},
   "source": [
    "Flatten"
   ]
  },
  {
   "cell_type": "code",
   "execution_count": 10,
   "metadata": {},
   "outputs": [
    {
     "data": {
      "text/plain": [
       "<tf.Tensor 'flatten/Reshape:0' shape=(?, ?) dtype=float32>"
      ]
     },
     "execution_count": 10,
     "metadata": {},
     "output_type": "execute_result"
    }
   ],
   "source": [
    "dense_1 = Flatten(name='flatten')(norm_3)\n",
    "dense_1"
   ]
  },
  {
   "cell_type": "code",
   "execution_count": 11,
   "metadata": {},
   "outputs": [
    {
     "data": {
      "text/plain": [
       "<tf.Tensor 'softmax/Softmax:0' shape=(?, 4) dtype=float32>"
      ]
     },
     "execution_count": 11,
     "metadata": {},
     "output_type": "execute_result"
    }
   ],
   "source": [
    "dense_1 = Dense(4096, activation='relu', name='dense_1')(dense_1)\n",
    "dense_2 = Dropout(0.5)(dense_1)\n",
    "dense_2 = Dense(4096, activation='relu', name='dense_2')(dense_2)\n",
    "dense_3 = Dropout(0.5)(dense_2)\n",
    "dense_3 = Dense(Y_train.shape[1], name='dense_3')(dense_3)\n",
    "prediction = Activation('softmax', name='softmax')(dense_3)\n",
    "prediction"
   ]
  },
  {
   "cell_type": "code",
   "execution_count": 12,
   "metadata": {},
   "outputs": [],
   "source": [
    "model = Model(outputs=prediction,inputs = inputs)"
   ]
  },
  {
   "cell_type": "code",
   "execution_count": null,
   "metadata": {},
   "outputs": [],
   "source": []
  },
  {
   "cell_type": "markdown",
   "metadata": {},
   "source": [
    "# Lets train"
   ]
  },
  {
   "cell_type": "code",
   "execution_count": 13,
   "metadata": {},
   "outputs": [],
   "source": [
    "# optimizer\n",
    "sgd = SGD(lr=lr, decay=decay, momentum=momentum)"
   ]
  },
  {
   "cell_type": "code",
   "execution_count": 14,
   "metadata": {},
   "outputs": [],
   "source": [
    "model.compile(optimizer=sgd, loss='categorical_crossentropy',metrics=['accuracy'])"
   ]
  },
  {
   "cell_type": "code",
   "execution_count": 16,
   "metadata": {
    "scrolled": true
   },
   "outputs": [
    {
     "name": "stdout",
     "output_type": "stream",
     "text": [
      "_________________________________________________________________\n",
      "Layer (type)                 Output Shape              Param #   \n",
      "=================================================================\n",
      "input_1 (InputLayer)         (None, 9, 9, 12)          0         \n",
      "_________________________________________________________________\n",
      "conv_1 (Conv2D)              (None, 3, 3, 96)          139488    \n",
      "_________________________________________________________________\n",
      "max_pooling2d_1 (MaxPooling2 (None, 2, 2, 96)          0         \n",
      "_________________________________________________________________\n",
      "norm_1 (BatchNormalization)  (None, 2, 2, 96)          384       \n",
      "_________________________________________________________________\n",
      "conv_2 (Conv2D)              (None, 2, 2, 256)         614656    \n",
      "_________________________________________________________________\n",
      "max_pooling2d_2 (MaxPooling2 (None, 1, 1, 256)         0         \n",
      "_________________________________________________________________\n",
      "conv_3 (Conv2D)              (None, 1, 1, 384)         885120    \n",
      "_________________________________________________________________\n",
      "conv_4 (Conv2D)              (None, 1, 1, 384)         1327488   \n",
      "_________________________________________________________________\n",
      "conv_5 (Conv2D)              (None, 1, 1, 256)         884992    \n",
      "_________________________________________________________________\n",
      "max_pooling2d_3 (MaxPooling2 (None, 1, 1, 256)         0         \n",
      "_________________________________________________________________\n",
      "norm_3 (BatchNormalization)  (None, 1, 1, 256)         1024      \n",
      "_________________________________________________________________\n",
      "flatten (Flatten)            (None, 256)               0         \n",
      "_________________________________________________________________\n",
      "dense_1 (Dense)              (None, 4096)              1052672   \n",
      "_________________________________________________________________\n",
      "dropout_1 (Dropout)          (None, 4096)              0         \n",
      "_________________________________________________________________\n",
      "dense_2 (Dense)              (None, 4096)              16781312  \n",
      "_________________________________________________________________\n",
      "dropout_2 (Dropout)          (None, 4096)              0         \n",
      "_________________________________________________________________\n",
      "dense_3 (Dense)              (None, 4)                 16388     \n",
      "_________________________________________________________________\n",
      "softmax (Activation)         (None, 4)                 0         \n",
      "=================================================================\n",
      "Total params: 21,703,524\n",
      "Trainable params: 21,702,820\n",
      "Non-trainable params: 704\n",
      "_________________________________________________________________\n"
     ]
    }
   ],
   "source": [
    "model.summary()"
   ]
  },
  {
   "cell_type": "code",
   "execution_count": 17,
   "metadata": {
    "scrolled": true
   },
   "outputs": [
    {
     "name": "stdout",
     "output_type": "stream",
     "text": [
      "Train on 404 samples, validate on 793 samples\n",
      "Epoch 1/100\n",
      "404/404 [==============================] - 4s 11ms/step - loss: 1.3847 - acc: 0.2723 - val_loss: 1.3761 - val_acc: 0.5826\n",
      "Epoch 2/100\n",
      "404/404 [==============================] - 5s 12ms/step - loss: 1.3729 - acc: 0.4059 - val_loss: 1.3619 - val_acc: 0.7150\n",
      "Epoch 3/100\n",
      "404/404 [==============================] - 5s 11ms/step - loss: 1.3523 - acc: 0.6238 - val_loss: 1.3400 - val_acc: 0.7238\n",
      "Epoch 4/100\n",
      "404/404 [==============================] - 4s 10ms/step - loss: 1.3304 - acc: 0.7228 - val_loss: 1.3121 - val_acc: 0.7137\n",
      "Epoch 5/100\n",
      "404/404 [==============================] - 6s 14ms/step - loss: 1.2970 - acc: 0.7574 - val_loss: 1.2663 - val_acc: 0.7037\n",
      "Epoch 6/100\n",
      "404/404 [==============================] - 5s 13ms/step - loss: 1.2432 - acc: 0.7797 - val_loss: 1.1975 - val_acc: 0.6961\n",
      "Epoch 7/100\n",
      "404/404 [==============================] - 5s 12ms/step - loss: 1.1743 - acc: 0.7995 - val_loss: 1.1095 - val_acc: 0.6873\n",
      "Epoch 8/100\n",
      "404/404 [==============================] - 6s 14ms/step - loss: 1.0686 - acc: 0.8045 - val_loss: 1.0120 - val_acc: 0.6910\n",
      "Epoch 9/100\n",
      "404/404 [==============================] - 5s 13ms/step - loss: 0.9414 - acc: 0.7970 - val_loss: 0.9411 - val_acc: 0.6923\n",
      "Epoch 10/100\n",
      "404/404 [==============================] - 5s 12ms/step - loss: 0.7930 - acc: 0.8069 - val_loss: 0.8797 - val_acc: 0.7112\n",
      "Epoch 11/100\n",
      "404/404 [==============================] - 6s 14ms/step - loss: 0.6740 - acc: 0.8144 - val_loss: 0.7533 - val_acc: 0.7427\n",
      "Epoch 12/100\n",
      "404/404 [==============================] - 5s 12ms/step - loss: 0.5623 - acc: 0.8515 - val_loss: 0.7153 - val_acc: 0.7402\n",
      "Epoch 13/100\n",
      "404/404 [==============================] - 5s 12ms/step - loss: 0.4715 - acc: 0.8812 - val_loss: 0.5437 - val_acc: 0.8008\n",
      "Epoch 14/100\n",
      "404/404 [==============================] - 6s 14ms/step - loss: 0.3827 - acc: 0.9356 - val_loss: 0.5102 - val_acc: 0.8235\n",
      "Epoch 15/100\n",
      "404/404 [==============================] - 4s 10ms/step - loss: 0.3150 - acc: 0.9480 - val_loss: 0.5295 - val_acc: 0.8411\n",
      "Epoch 16/100\n",
      "404/404 [==============================] - 4s 10ms/step - loss: 0.2422 - acc: 0.9554 - val_loss: 0.6138 - val_acc: 0.7793\n",
      "Epoch 17/100\n",
      "404/404 [==============================] - 5s 12ms/step - loss: 0.2120 - acc: 0.9678 - val_loss: 0.6516 - val_acc: 0.7566\n",
      "Epoch 18/100\n",
      "404/404 [==============================] - 7s 17ms/step - loss: 0.1675 - acc: 0.9728 - val_loss: 0.5565 - val_acc: 0.8134\n",
      "Epoch 19/100\n",
      "404/404 [==============================] - 4s 11ms/step - loss: 0.1463 - acc: 0.9728 - val_loss: 0.8497 - val_acc: 0.6469\n",
      "Epoch 20/100\n",
      "404/404 [==============================] - 5s 13ms/step - loss: 0.1231 - acc: 0.9752 - val_loss: 0.6181 - val_acc: 0.7869\n",
      "Epoch 21/100\n",
      "404/404 [==============================] - 5s 13ms/step - loss: 0.1070 - acc: 0.9802 - val_loss: 0.8696 - val_acc: 0.6381\n",
      "Epoch 22/100\n",
      "404/404 [==============================] - 4s 11ms/step - loss: 0.0988 - acc: 0.9777 - val_loss: 0.8234 - val_acc: 0.6696\n",
      "Epoch 23/100\n",
      "404/404 [==============================] - 6s 14ms/step - loss: 0.0891 - acc: 0.9876 - val_loss: 0.8256 - val_acc: 0.7037\n",
      "Epoch 24/100\n",
      "404/404 [==============================] - 5s 13ms/step - loss: 0.0961 - acc: 0.9827 - val_loss: 0.4389 - val_acc: 0.8550\n",
      "Epoch 25/100\n",
      "404/404 [==============================] - 5s 12ms/step - loss: 0.0726 - acc: 0.9901 - val_loss: 0.5578 - val_acc: 0.8235\n",
      "Epoch 26/100\n",
      "404/404 [==============================] - 6s 14ms/step - loss: 0.0710 - acc: 0.9901 - val_loss: 0.6748 - val_acc: 0.7768\n",
      "Epoch 27/100\n",
      "404/404 [==============================] - 4s 10ms/step - loss: 0.0731 - acc: 0.9802 - val_loss: 0.3450 - val_acc: 0.8890\n",
      "Epoch 28/100\n",
      "404/404 [==============================] - 4s 10ms/step - loss: 0.0498 - acc: 0.9950 - val_loss: 0.4733 - val_acc: 0.8449\n",
      "Epoch 29/100\n",
      "404/404 [==============================] - 5s 13ms/step - loss: 0.0605 - acc: 0.9950 - val_loss: 1.1038 - val_acc: 0.5776\n",
      "Epoch 30/100\n",
      "404/404 [==============================] - 6s 16ms/step - loss: 0.0430 - acc: 0.9975 - val_loss: 0.5165 - val_acc: 0.8335\n",
      "Epoch 31/100\n",
      "404/404 [==============================] - 5s 12ms/step - loss: 0.0537 - acc: 0.9901 - val_loss: 0.4294 - val_acc: 0.8537\n",
      "Epoch 32/100\n",
      "404/404 [==============================] - 5s 13ms/step - loss: 0.0470 - acc: 0.9950 - val_loss: 0.6519 - val_acc: 0.7881\n",
      "Epoch 33/100\n",
      "404/404 [==============================] - 6s 14ms/step - loss: 0.0581 - acc: 0.9901 - val_loss: 0.4950 - val_acc: 0.8436\n",
      "Epoch 34/100\n",
      "404/404 [==============================] - 4s 10ms/step - loss: 0.0582 - acc: 0.9851 - val_loss: 0.8176 - val_acc: 0.7188\n",
      "Epoch 35/100\n",
      "404/404 [==============================] - 4s 10ms/step - loss: 0.0363 - acc: 0.9950 - val_loss: 0.5363 - val_acc: 0.8272\n",
      "Epoch 36/100\n",
      "404/404 [==============================] - 5s 12ms/step - loss: 0.0288 - acc: 0.9975 - val_loss: 0.3590 - val_acc: 0.8802\n",
      "Epoch 37/100\n",
      "404/404 [==============================] - 7s 17ms/step - loss: 0.0339 - acc: 0.9950 - val_loss: 0.4808 - val_acc: 0.8411\n",
      "Epoch 38/100\n",
      "404/404 [==============================] - 4s 11ms/step - loss: 0.0322 - acc: 0.9950 - val_loss: 0.9780 - val_acc: 0.6293\n",
      "Epoch 39/100\n",
      "404/404 [==============================] - 6s 14ms/step - loss: 0.0244 - acc: 0.9975 - val_loss: 0.4694 - val_acc: 0.8449\n",
      "Epoch 40/100\n",
      "404/404 [==============================] - 4s 10ms/step - loss: 0.0218 - acc: 0.9975 - val_loss: 0.8341 - val_acc: 0.7327\n",
      "Epoch 41/100\n",
      "404/404 [==============================] - 4s 10ms/step - loss: 0.0214 - acc: 1.0000 - val_loss: 2.0459 - val_acc: 0.4300\n",
      "Epoch 42/100\n",
      "404/404 [==============================] - 6s 14ms/step - loss: 0.0192 - acc: 1.0000 - val_loss: 0.3401 - val_acc: 0.8865\n",
      "Epoch 43/100\n",
      "404/404 [==============================] - 6s 14ms/step - loss: 0.0246 - acc: 0.9950 - val_loss: 0.3271 - val_acc: 0.9004\n",
      "Epoch 44/100\n",
      "404/404 [==============================] - 5s 13ms/step - loss: 0.0353 - acc: 0.9950 - val_loss: 0.4126 - val_acc: 0.8625\n",
      "Epoch 45/100\n",
      "404/404 [==============================] - 5s 12ms/step - loss: 0.0397 - acc: 0.9975 - val_loss: 1.0799 - val_acc: 0.6810\n",
      "Epoch 46/100\n",
      "404/404 [==============================] - 6s 14ms/step - loss: 0.0433 - acc: 0.9901 - val_loss: 0.4686 - val_acc: 0.8436\n",
      "Epoch 47/100\n",
      "404/404 [==============================] - 5s 12ms/step - loss: 0.0294 - acc: 0.9950 - val_loss: 0.4256 - val_acc: 0.8777\n",
      "Epoch 48/100\n",
      "404/404 [==============================] - 5s 12ms/step - loss: 0.0271 - acc: 1.0000 - val_loss: 0.6246 - val_acc: 0.8134\n",
      "Epoch 49/100\n",
      "404/404 [==============================] - 6s 14ms/step - loss: 0.0337 - acc: 0.9901 - val_loss: 0.5970 - val_acc: 0.8121\n",
      "Epoch 50/100\n",
      "404/404 [==============================] - 5s 11ms/step - loss: 0.0207 - acc: 0.9975 - val_loss: 0.4878 - val_acc: 0.8487\n",
      "Epoch 51/100\n",
      "404/404 [==============================] - 5s 13ms/step - loss: 0.0220 - acc: 0.9975 - val_loss: 0.3544 - val_acc: 0.8878\n",
      "Epoch 52/100\n",
      "404/404 [==============================] - 6s 14ms/step - loss: 0.0180 - acc: 1.0000 - val_loss: 0.8368 - val_acc: 0.7415\n",
      "Epoch 53/100\n",
      "404/404 [==============================] - 4s 11ms/step - loss: 0.0169 - acc: 0.9975 - val_loss: 1.2258 - val_acc: 0.6343\n",
      "Epoch 54/100\n",
      "404/404 [==============================] - 6s 14ms/step - loss: 0.0151 - acc: 1.0000 - val_loss: 0.9326 - val_acc: 0.7087\n",
      "Epoch 55/100\n",
      "404/404 [==============================] - 4s 10ms/step - loss: 0.0156 - acc: 1.0000 - val_loss: 0.3476 - val_acc: 0.8878\n",
      "Epoch 56/100\n",
      "404/404 [==============================] - 4s 10ms/step - loss: 0.0160 - acc: 0.9950 - val_loss: 0.4002 - val_acc: 0.8613\n",
      "Epoch 57/100\n",
      "404/404 [==============================] - 6s 14ms/step - loss: 0.0128 - acc: 1.0000 - val_loss: 0.4539 - val_acc: 0.8676\n",
      "Epoch 58/100\n",
      "404/404 [==============================] - 6s 15ms/step - loss: 0.0142 - acc: 1.0000 - val_loss: 0.4747 - val_acc: 0.8613\n",
      "Epoch 59/100\n",
      "404/404 [==============================] - 5s 13ms/step - loss: 0.0190 - acc: 0.9950 - val_loss: 0.3792 - val_acc: 0.8827\n",
      "Epoch 60/100\n",
      "404/404 [==============================] - 5s 12ms/step - loss: 0.0304 - acc: 0.9950 - val_loss: 0.5343 - val_acc: 0.8184\n",
      "Epoch 61/100\n",
      "404/404 [==============================] - 6s 14ms/step - loss: 0.0188 - acc: 1.0000 - val_loss: 1.4780 - val_acc: 0.4905\n",
      "Epoch 62/100\n",
      "404/404 [==============================] - 5s 12ms/step - loss: 0.0251 - acc: 0.9950 - val_loss: 4.2859 - val_acc: 0.2371\n",
      "Epoch 63/100\n",
      "404/404 [==============================] - 5s 13ms/step - loss: 0.0192 - acc: 0.9950 - val_loss: 3.7399 - val_acc: 0.2383\n",
      "Epoch 64/100\n",
      "404/404 [==============================] - 6s 14ms/step - loss: 0.0202 - acc: 1.0000 - val_loss: 1.9798 - val_acc: 0.3884\n",
      "Epoch 65/100\n",
      "404/404 [==============================] - 4s 10ms/step - loss: 0.0191 - acc: 1.0000 - val_loss: 1.9266 - val_acc: 0.3985\n",
      "Epoch 66/100\n",
      "404/404 [==============================] - 4s 10ms/step - loss: 0.0146 - acc: 1.0000 - val_loss: 1.1211 - val_acc: 0.6393\n",
      "Epoch 67/100\n",
      "404/404 [==============================] - 5s 11ms/step - loss: 0.0142 - acc: 1.0000 - val_loss: 1.9916 - val_acc: 0.5019\n",
      "Epoch 68/100\n",
      "404/404 [==============================] - 7s 17ms/step - loss: 0.0120 - acc: 1.0000 - val_loss: 1.0211 - val_acc: 0.6974\n",
      "Epoch 69/100\n",
      "404/404 [==============================] - 4s 11ms/step - loss: 0.0113 - acc: 0.9975 - val_loss: 0.8258 - val_acc: 0.7541\n",
      "Epoch 70/100\n",
      "404/404 [==============================] - 6s 14ms/step - loss: 0.0082 - acc: 1.0000 - val_loss: 1.6101 - val_acc: 0.5864\n",
      "Epoch 71/100\n",
      "404/404 [==============================] - 4s 10ms/step - loss: 0.0117 - acc: 1.0000 - val_loss: 0.9579 - val_acc: 0.7301\n",
      "Epoch 72/100\n",
      "404/404 [==============================] - 4s 10ms/step - loss: 0.0179 - acc: 0.9950 - val_loss: 0.5139 - val_acc: 0.8449\n",
      "Epoch 73/100\n",
      "404/404 [==============================] - 6s 14ms/step - loss: 0.0427 - acc: 0.9802 - val_loss: 0.5936 - val_acc: 0.8209\n",
      "Epoch 74/100\n",
      "404/404 [==============================] - 6s 14ms/step - loss: 0.0261 - acc: 0.9975 - val_loss: 0.6161 - val_acc: 0.8134\n",
      "Epoch 75/100\n",
      "404/404 [==============================] - 5s 13ms/step - loss: 0.0203 - acc: 0.9950 - val_loss: 0.3994 - val_acc: 0.8764\n",
      "Epoch 76/100\n",
      "404/404 [==============================] - 5s 12ms/step - loss: 0.0159 - acc: 1.0000 - val_loss: 0.6974 - val_acc: 0.8146\n",
      "Epoch 77/100\n",
      "404/404 [==============================] - 6s 14ms/step - loss: 0.0291 - acc: 0.9950 - val_loss: 0.3874 - val_acc: 0.8777\n",
      "Epoch 78/100\n",
      "404/404 [==============================] - 5s 12ms/step - loss: 0.0127 - acc: 1.0000 - val_loss: 1.2499 - val_acc: 0.6129\n",
      "Epoch 79/100\n",
      "404/404 [==============================] - 5s 13ms/step - loss: 0.0171 - acc: 0.9975 - val_loss: 0.4037 - val_acc: 0.8663\n",
      "Epoch 80/100\n",
      "404/404 [==============================] - 6s 14ms/step - loss: 0.0156 - acc: 0.9975 - val_loss: 0.4692 - val_acc: 0.8600\n",
      "Epoch 81/100\n",
      "404/404 [==============================] - 4s 11ms/step - loss: 0.0204 - acc: 0.9975 - val_loss: 0.4006 - val_acc: 0.8802\n",
      "Epoch 82/100\n",
      "404/404 [==============================] - 5s 13ms/step - loss: 0.0184 - acc: 0.9975 - val_loss: 0.3871 - val_acc: 0.8802\n",
      "Epoch 83/100\n",
      "404/404 [==============================] - 5s 14ms/step - loss: 0.0124 - acc: 1.0000 - val_loss: 0.4402 - val_acc: 0.8575\n",
      "Epoch 84/100\n",
      "404/404 [==============================] - 4s 11ms/step - loss: 0.0138 - acc: 0.9975 - val_loss: 0.4792 - val_acc: 0.8474\n",
      "Epoch 85/100\n",
      "404/404 [==============================] - 6s 14ms/step - loss: 0.0098 - acc: 1.0000 - val_loss: 0.4659 - val_acc: 0.8575\n",
      "Epoch 86/100\n",
      "404/404 [==============================] - 5s 13ms/step - loss: 0.0075 - acc: 1.0000 - val_loss: 0.5546 - val_acc: 0.8398\n",
      "Epoch 87/100\n",
      "404/404 [==============================] - 5s 11ms/step - loss: 0.0067 - acc: 1.0000 - val_loss: 0.5393 - val_acc: 0.8499\n",
      "Epoch 88/100\n",
      "404/404 [==============================] - 6s 14ms/step - loss: 0.0063 - acc: 1.0000 - val_loss: 0.4689 - val_acc: 0.8701\n",
      "Epoch 89/100\n",
      "404/404 [==============================] - 5s 12ms/step - loss: 0.0090 - acc: 1.0000 - val_loss: 0.6262 - val_acc: 0.8411\n",
      "Epoch 90/100\n",
      "404/404 [==============================] - 5s 12ms/step - loss: 0.0171 - acc: 0.9950 - val_loss: 1.2248 - val_acc: 0.7402\n",
      "Epoch 91/100\n",
      "404/404 [==============================] - 6s 14ms/step - loss: 0.0097 - acc: 0.9975 - val_loss: 0.3998 - val_acc: 0.8852\n",
      "Epoch 92/100\n",
      "404/404 [==============================] - 5s 11ms/step - loss: 0.0135 - acc: 0.9950 - val_loss: 0.3648 - val_acc: 0.8890\n",
      "Epoch 93/100\n",
      "404/404 [==============================] - 5s 13ms/step - loss: 0.0113 - acc: 1.0000 - val_loss: 0.7324 - val_acc: 0.8197\n",
      "Epoch 94/100\n",
      "404/404 [==============================] - 4s 10ms/step - loss: 0.0243 - acc: 0.9950 - val_loss: 0.6331 - val_acc: 0.8134\n",
      "Epoch 95/100\n",
      "404/404 [==============================] - 4s 10ms/step - loss: 0.0091 - acc: 0.9975 - val_loss: 0.5823 - val_acc: 0.8172\n",
      "Epoch 96/100\n",
      "404/404 [==============================] - 6s 15ms/step - loss: 0.0098 - acc: 0.9975 - val_loss: 0.7056 - val_acc: 0.7856\n",
      "Epoch 97/100\n",
      "404/404 [==============================] - 5s 14ms/step - loss: 0.0103 - acc: 1.0000 - val_loss: 0.4924 - val_acc: 0.8436\n",
      "Epoch 98/100\n",
      "404/404 [==============================] - 5s 13ms/step - loss: 0.0334 - acc: 0.9827 - val_loss: 0.5221 - val_acc: 0.8499\n",
      "Epoch 99/100\n",
      "404/404 [==============================] - 4s 11ms/step - loss: 0.0121 - acc: 0.9975 - val_loss: 0.3917 - val_acc: 0.8941\n",
      "Epoch 100/100\n",
      "404/404 [==============================] - 6s 14ms/step - loss: 0.0091 - acc: 1.0000 - val_loss: 0.3945 - val_acc: 0.8916\n"
     ]
    },
    {
     "data": {
      "text/plain": [
       "<keras.callbacks.History at 0x7f37986bb9e8>"
      ]
     },
     "execution_count": 17,
     "metadata": {},
     "output_type": "execute_result"
    }
   ],
   "source": [
    "model.fit(x = X_train, y = Y_train, batch_size=batch_size, epochs=epochs,\n",
    "              validation_data=[X_test,Y_test],shuffle = True,\n",
    "              callbacks=[tensorboard])\n",
    "# metrics = model.evaluate(X_test, Y_test)"
   ]
  }
 ],
 "metadata": {
  "kernelspec": {
   "display_name": "Python 3",
   "language": "python",
   "name": "python3"
  },
  "language_info": {
   "codemirror_mode": {
    "name": "ipython",
    "version": 3
   },
   "file_extension": ".py",
   "mimetype": "text/x-python",
   "name": "python",
   "nbconvert_exporter": "python",
   "pygments_lexer": "ipython3",
   "version": "3.5.2"
  }
 },
 "nbformat": 4,
 "nbformat_minor": 2
}
