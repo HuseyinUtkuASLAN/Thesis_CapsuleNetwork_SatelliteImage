{
 "cells": [
  {
   "cell_type": "markdown",
   "metadata": {},
   "source": [
    "# AlexNet\n",
    "\n",
    "Alexnet is a convolution neural network the competed in ImageNet Large Scale Visual Recognition Challenge in 2012. It uses features like convolution, max pooling, LRN, dropout etc. For more information [ImageNet Classification with Deep Convolutional Neural Networks](https://papers.nips.cc/paper/4824-imagenet-classification-with-deep-convolutional-neural-networks.pdf) by Alex Krizhevsky, Ilya Sutskever and Geoffrey E. Hinton\n",
    "\n",
    "## Architecture\n",
    "input -> conv11-96 -> maxpooling -> LRN -> conv5-256 -> maxpooling -> LRN -> conv3-384 -> conv3-384 -> conv3-256 -> maxpooling -> LRN -> flatten -> fc4096 -> dropout -> fc4096 -> dropout -> output\n",
    "\n",
    "### Note :\n",
    "Because of the small image sizes, paddings are changed to \"SAME\"."
   ]
  },
  {
   "cell_type": "code",
   "execution_count": 1,
   "metadata": {},
   "outputs": [
    {
     "name": "stderr",
     "output_type": "stream",
     "text": [
      "Using TensorFlow backend.\n"
     ]
    }
   ],
   "source": [
    "from keras.models import Sequential\n",
    "from keras.layers.core import Flatten, Dense, Dropout\n",
    "from keras.layers.convolutional import Convolution2D, MaxPooling2D\n",
    "from keras.layers.normalization import BatchNormalization\n",
    "from keras.layers import Input\n",
    "from keras.layers import Activation\n",
    "from keras.models import Model\n",
    "from keras.utils import to_categorical\n",
    "from keras.optimizers import SGD\n",
    "from keras.callbacks import TensorBoard"
   ]
  },
  {
   "cell_type": "code",
   "execution_count": 2,
   "metadata": {},
   "outputs": [],
   "source": [
    "from data import get_data_set"
   ]
  },
  {
   "cell_type": "code",
   "execution_count": 3,
   "metadata": {},
   "outputs": [],
   "source": [
    "# Args\n",
    "save_dir = \"./results\"\n",
    "batch_size = 32\n",
    "epochs = 100\n",
    "lr=0.001\n",
    "decay=0.0005\n",
    "momentum=0.9\n",
    "log_dir = \"./tensorboard/alexnet_9x9_13/\"\n",
    "# originals\n",
    "# save_dir = \"./results\"\n",
    "# batch_size = 50\n",
    "# epochs = 50\n",
    "# lr=0.01\n",
    "# decay=0.0005\n",
    "# momentum=0.9"
   ]
  },
  {
   "cell_type": "code",
   "execution_count": 4,
   "metadata": {},
   "outputs": [
    {
     "data": {
      "text/plain": [
       "(404, 9, 9, 13)"
      ]
     },
     "execution_count": 4,
     "metadata": {},
     "output_type": "execute_result"
    }
   ],
   "source": [
    "X_train,Y_train = get_data_set(\"train\",input_path = \"../input/data_9x9_13band/\",one_hot = True)\n",
    "X_test,Y_test = get_data_set(\"test\",input_path = \"../input/data_9x9_13band/\", one_hot = True)\n",
    "\n",
    "X_train.shape"
   ]
  },
  {
   "cell_type": "code",
   "execution_count": null,
   "metadata": {},
   "outputs": [],
   "source": []
  },
  {
   "cell_type": "code",
   "execution_count": 5,
   "metadata": {},
   "outputs": [],
   "source": [
    "tensorboard = TensorBoard(log_dir=log_dir,batch_size=batch_size)"
   ]
  },
  {
   "cell_type": "markdown",
   "metadata": {},
   "source": [
    "# Custome LRN or Batch normalization\n",
    "\n",
    "There are no local response normalization layer in Keras' latest version when this code is written. Instead of LRN, batch normalization is used. \n",
    "A custom LRN can be implemented if needed. An implementation example can be found in the [link](https://joelouismarino.github.io/blog_posts/blog_googlenet_keras.html)"
   ]
  },
  {
   "cell_type": "code",
   "execution_count": null,
   "metadata": {},
   "outputs": [],
   "source": []
  },
  {
   "cell_type": "markdown",
   "metadata": {},
   "source": [
    "# Model"
   ]
  },
  {
   "cell_type": "code",
   "execution_count": 6,
   "metadata": {},
   "outputs": [
    {
     "data": {
      "text/plain": [
       "<tf.Tensor 'input_1:0' shape=(?, 9, 9, 13) dtype=float32>"
      ]
     },
     "execution_count": 6,
     "metadata": {},
     "output_type": "execute_result"
    }
   ],
   "source": [
    "inputs = Input(X_train.shape[1:])\n",
    "inputs"
   ]
  },
  {
   "cell_type": "code",
   "execution_count": 7,
   "metadata": {},
   "outputs": [
    {
     "data": {
      "text/plain": [
       "<tf.Tensor 'norm_1/cond/Merge:0' shape=(?, 2, 2, 96) dtype=float32>"
      ]
     },
     "execution_count": 7,
     "metadata": {},
     "output_type": "execute_result"
    }
   ],
   "source": [
    "conv_1 = Convolution2D(96, kernel_size =(11, 11), strides=(4, 4), padding='same', activation='relu',\n",
    "                           name='conv_1')(inputs)\n",
    "conv_1 = MaxPooling2D((3, 3), strides=(2, 2), padding='same')(conv_1)\n",
    "norm_1 = BatchNormalization(name=\"norm_1\")(conv_1)\n",
    "norm_1"
   ]
  },
  {
   "cell_type": "code",
   "execution_count": 8,
   "metadata": {},
   "outputs": [
    {
     "data": {
      "text/plain": [
       "<tf.Tensor 'norm_2/cond/Merge:0' shape=(?, 1, 1, 256) dtype=float32>"
      ]
     },
     "execution_count": 8,
     "metadata": {},
     "output_type": "execute_result"
    }
   ],
   "source": [
    "conv_2 = Convolution2D(256, kernel_size =(5, 5), strides=(1, 1), padding='same', activation='relu',\n",
    "                           name='conv_2')(norm_1)\n",
    "conv_2 = MaxPooling2D((3, 3), strides=(2, 2),padding = \"same\")(conv_2)\n",
    "norm_2 = BatchNormalization(name=\"norm_2\")(conv_2)\n",
    "norm_2"
   ]
  },
  {
   "cell_type": "code",
   "execution_count": 9,
   "metadata": {},
   "outputs": [
    {
     "data": {
      "text/plain": [
       "<tf.Tensor 'norm_3/cond/Merge:0' shape=(?, 1, 1, 256) dtype=float32>"
      ]
     },
     "execution_count": 9,
     "metadata": {},
     "output_type": "execute_result"
    }
   ],
   "source": [
    "conv_3 = Convolution2D(384, kernel_size =(3, 3), strides=(1, 1), padding='same', activation='relu',\n",
    "                           name='conv_3')(conv_2)\n",
    "conv_4 = Convolution2D(384, kernel_size =(3, 3), strides=(1, 1), padding='same', activation='relu',\n",
    "                           name='conv_4')(conv_3)\n",
    "conv_5 = Convolution2D(256, kernel_size =(3, 3), strides=(1, 1), padding='same', activation='relu',\n",
    "                           name='conv_5')(conv_4)\n",
    "conv_5 = MaxPooling2D((3, 3), strides=(2, 2), padding='same')(conv_5)\n",
    "norm_3 = BatchNormalization(name=\"norm_3\")(conv_5)\n",
    "norm_3"
   ]
  },
  {
   "cell_type": "markdown",
   "metadata": {},
   "source": [
    "Flatten"
   ]
  },
  {
   "cell_type": "code",
   "execution_count": 10,
   "metadata": {},
   "outputs": [
    {
     "data": {
      "text/plain": [
       "<tf.Tensor 'flatten/Reshape:0' shape=(?, ?) dtype=float32>"
      ]
     },
     "execution_count": 10,
     "metadata": {},
     "output_type": "execute_result"
    }
   ],
   "source": [
    "dense_1 = Flatten(name='flatten')(norm_3)\n",
    "dense_1"
   ]
  },
  {
   "cell_type": "code",
   "execution_count": 11,
   "metadata": {},
   "outputs": [
    {
     "data": {
      "text/plain": [
       "<tf.Tensor 'softmax/Softmax:0' shape=(?, 4) dtype=float32>"
      ]
     },
     "execution_count": 11,
     "metadata": {},
     "output_type": "execute_result"
    }
   ],
   "source": [
    "dense_1 = Dense(4096, activation='relu', name='dense_1')(dense_1)\n",
    "dense_2 = Dropout(0.5)(dense_1)\n",
    "dense_2 = Dense(4096, activation='relu', name='dense_2')(dense_2)\n",
    "dense_3 = Dropout(0.5)(dense_2)\n",
    "dense_3 = Dense(Y_train.shape[1], name='dense_3')(dense_3)\n",
    "prediction = Activation('softmax', name='softmax')(dense_3)\n",
    "prediction"
   ]
  },
  {
   "cell_type": "code",
   "execution_count": 12,
   "metadata": {},
   "outputs": [],
   "source": [
    "model = Model(outputs=prediction,inputs = inputs)"
   ]
  },
  {
   "cell_type": "code",
   "execution_count": null,
   "metadata": {},
   "outputs": [],
   "source": []
  },
  {
   "cell_type": "markdown",
   "metadata": {},
   "source": [
    "# Lets train"
   ]
  },
  {
   "cell_type": "code",
   "execution_count": 13,
   "metadata": {},
   "outputs": [],
   "source": [
    "# optimizer\n",
    "sgd = SGD(lr=lr, decay=decay, momentum=momentum)"
   ]
  },
  {
   "cell_type": "code",
   "execution_count": 14,
   "metadata": {},
   "outputs": [],
   "source": [
    "model.compile(optimizer=sgd, loss='categorical_crossentropy',metrics=['accuracy'])"
   ]
  },
  {
   "cell_type": "code",
   "execution_count": 15,
   "metadata": {
    "scrolled": true
   },
   "outputs": [
    {
     "name": "stdout",
     "output_type": "stream",
     "text": [
      "_________________________________________________________________\n",
      "Layer (type)                 Output Shape              Param #   \n",
      "=================================================================\n",
      "input_1 (InputLayer)         (None, 9, 9, 13)          0         \n",
      "_________________________________________________________________\n",
      "conv_1 (Conv2D)              (None, 3, 3, 96)          151104    \n",
      "_________________________________________________________________\n",
      "max_pooling2d_1 (MaxPooling2 (None, 2, 2, 96)          0         \n",
      "_________________________________________________________________\n",
      "norm_1 (BatchNormalization)  (None, 2, 2, 96)          384       \n",
      "_________________________________________________________________\n",
      "conv_2 (Conv2D)              (None, 2, 2, 256)         614656    \n",
      "_________________________________________________________________\n",
      "max_pooling2d_2 (MaxPooling2 (None, 1, 1, 256)         0         \n",
      "_________________________________________________________________\n",
      "conv_3 (Conv2D)              (None, 1, 1, 384)         885120    \n",
      "_________________________________________________________________\n",
      "conv_4 (Conv2D)              (None, 1, 1, 384)         1327488   \n",
      "_________________________________________________________________\n",
      "conv_5 (Conv2D)              (None, 1, 1, 256)         884992    \n",
      "_________________________________________________________________\n",
      "max_pooling2d_3 (MaxPooling2 (None, 1, 1, 256)         0         \n",
      "_________________________________________________________________\n",
      "norm_3 (BatchNormalization)  (None, 1, 1, 256)         1024      \n",
      "_________________________________________________________________\n",
      "flatten (Flatten)            (None, 256)               0         \n",
      "_________________________________________________________________\n",
      "dense_1 (Dense)              (None, 4096)              1052672   \n",
      "_________________________________________________________________\n",
      "dropout_1 (Dropout)          (None, 4096)              0         \n",
      "_________________________________________________________________\n",
      "dense_2 (Dense)              (None, 4096)              16781312  \n",
      "_________________________________________________________________\n",
      "dropout_2 (Dropout)          (None, 4096)              0         \n",
      "_________________________________________________________________\n",
      "dense_3 (Dense)              (None, 4)                 16388     \n",
      "_________________________________________________________________\n",
      "softmax (Activation)         (None, 4)                 0         \n",
      "=================================================================\n",
      "Total params: 21,715,140\n",
      "Trainable params: 21,714,436\n",
      "Non-trainable params: 704\n",
      "_________________________________________________________________\n"
     ]
    }
   ],
   "source": [
    "model.summary()"
   ]
  },
  {
   "cell_type": "code",
   "execution_count": null,
   "metadata": {
    "scrolled": true
   },
   "outputs": [
    {
     "name": "stdout",
     "output_type": "stream",
     "text": [
      "Train on 404 samples, validate on 793 samples\n",
      "Epoch 1/100\n",
      "404/404 [==============================] - 6s 14ms/step - loss: 1.3823 - acc: 0.3391 - val_loss: 1.3669 - val_acc: 0.6343\n",
      "Epoch 2/100\n",
      "404/404 [==============================] - 5s 13ms/step - loss: 1.3550 - acc: 0.6312 - val_loss: 1.3367 - val_acc: 0.7806\n",
      "Epoch 3/100\n",
      "404/404 [==============================] - 5s 12ms/step - loss: 1.3079 - acc: 0.7946 - val_loss: 1.2722 - val_acc: 0.7478\n",
      "Epoch 4/100\n",
      "404/404 [==============================] - 5s 12ms/step - loss: 1.2187 - acc: 0.8366 - val_loss: 1.1561 - val_acc: 0.7163\n",
      "Epoch 5/100\n",
      "404/404 [==============================] - 5s 13ms/step - loss: 1.0445 - acc: 0.8713 - val_loss: 0.9978 - val_acc: 0.6936\n",
      "Epoch 6/100\n",
      "404/404 [==============================] - 5s 13ms/step - loss: 0.7978 - acc: 0.8738 - val_loss: 0.8480 - val_acc: 0.7276\n",
      "Epoch 7/100\n",
      "404/404 [==============================] - 7s 16ms/step - loss: 0.5761 - acc: 0.8936 - val_loss: 0.7293 - val_acc: 0.7818\n",
      "Epoch 8/100\n",
      "404/404 [==============================] - 5s 13ms/step - loss: 0.4085 - acc: 0.9282 - val_loss: 1.0426 - val_acc: 0.6532\n",
      "Epoch 9/100\n",
      "404/404 [==============================] - 5s 13ms/step - loss: 0.2753 - acc: 0.9455 - val_loss: 0.6734 - val_acc: 0.7453\n",
      "Epoch 10/100\n",
      "404/404 [==============================] - 5s 13ms/step - loss: 0.2185 - acc: 0.9381 - val_loss: 0.9487 - val_acc: 0.6267\n",
      "Epoch 11/100\n",
      "404/404 [==============================] - 5s 13ms/step - loss: 0.1670 - acc: 0.9653 - val_loss: 0.9751 - val_acc: 0.5385\n",
      "Epoch 12/100\n",
      "404/404 [==============================] - 6s 14ms/step - loss: 0.1435 - acc: 0.9678 - val_loss: 0.9933 - val_acc: 0.5422\n",
      "Epoch 13/100\n",
      "404/404 [==============================] - 8s 19ms/step - loss: 0.1321 - acc: 0.9678 - val_loss: 0.5986 - val_acc: 0.7932\n",
      "Epoch 14/100\n",
      "404/404 [==============================] - 5s 13ms/step - loss: 0.1030 - acc: 0.9777 - val_loss: 0.9523 - val_acc: 0.5612\n",
      "Epoch 15/100\n",
      "404/404 [==============================] - 5s 13ms/step - loss: 0.0927 - acc: 0.9851 - val_loss: 0.6083 - val_acc: 0.7718\n",
      "Epoch 16/100\n",
      "404/404 [==============================] - 8s 20ms/step - loss: 0.0744 - acc: 0.9851 - val_loss: 0.6064 - val_acc: 0.7755\n",
      "Epoch 17/100\n",
      "404/404 [==============================] - 5s 14ms/step - loss: 0.0823 - acc: 0.9851 - val_loss: 1.4015 - val_acc: 0.4388\n",
      "Epoch 18/100\n",
      "404/404 [==============================] - 5s 13ms/step - loss: 0.0546 - acc: 0.9901 - val_loss: 0.6699 - val_acc: 0.7818\n",
      "Epoch 19/100\n",
      "404/404 [==============================] - 5s 13ms/step - loss: 0.0569 - acc: 0.9926 - val_loss: 1.7695 - val_acc: 0.4174\n",
      "Epoch 20/100\n",
      "404/404 [==============================] - 6s 14ms/step - loss: 0.0773 - acc: 0.9777 - val_loss: 0.8954 - val_acc: 0.6318\n",
      "Epoch 21/100\n",
      "404/404 [==============================] - 8s 19ms/step - loss: 0.0595 - acc: 0.9901 - val_loss: 0.8705 - val_acc: 0.7011\n",
      "Epoch 22/100\n",
      "404/404 [==============================] - 6s 15ms/step - loss: 0.0700 - acc: 0.9827 - val_loss: 0.8269 - val_acc: 0.7201\n",
      "Epoch 23/100\n",
      "404/404 [==============================] - 6s 14ms/step - loss: 0.0444 - acc: 0.9901 - val_loss: 0.4776 - val_acc: 0.8525\n",
      "Epoch 24/100\n",
      "404/404 [==============================] - 5s 13ms/step - loss: 0.0398 - acc: 0.9950 - val_loss: 0.4194 - val_acc: 0.8588\n",
      "Epoch 25/100\n",
      "404/404 [==============================] - 5s 13ms/step - loss: 0.0365 - acc: 0.9950 - val_loss: 0.7513 - val_acc: 0.7427\n",
      "Epoch 26/100\n",
      "404/404 [==============================] - 5s 13ms/step - loss: 0.0237 - acc: 0.9975 - val_loss: 0.3587 - val_acc: 0.8865\n",
      "Epoch 27/100\n",
      "404/404 [==============================] - 8s 20ms/step - loss: 0.0199 - acc: 0.9975 - val_loss: 0.3575 - val_acc: 0.8865\n",
      "Epoch 28/100\n",
      "404/404 [==============================] - 6s 15ms/step - loss: 0.0270 - acc: 0.9926 - val_loss: 0.9783 - val_acc: 0.7011\n",
      "Epoch 29/100\n",
      "404/404 [==============================] - 6s 14ms/step - loss: 0.0342 - acc: 0.9901 - val_loss: 0.3463 - val_acc: 0.8903\n",
      "Epoch 30/100\n",
      "404/404 [==============================] - 7s 16ms/step - loss: 0.0392 - acc: 0.9901 - val_loss: 1.0327 - val_acc: 0.7024\n",
      "Epoch 31/100\n",
      "404/404 [==============================] - 7s 16ms/step - loss: 0.0264 - acc: 0.9975 - val_loss: 0.6899 - val_acc: 0.7478\n",
      "Epoch 32/100\n",
      "404/404 [==============================] - 5s 13ms/step - loss: 0.0246 - acc: 0.9975 - val_loss: 0.4712 - val_acc: 0.8323\n",
      "Epoch 33/100\n",
      "404/404 [==============================] - 5s 13ms/step - loss: 0.0366 - acc: 0.9901 - val_loss: 1.1381 - val_acc: 0.6003\n",
      "Epoch 34/100\n",
      "404/404 [==============================] - 8s 20ms/step - loss: 0.0319 - acc: 0.9926 - val_loss: 0.3815 - val_acc: 0.8840\n",
      "Epoch 35/100\n",
      "404/404 [==============================] - 5s 14ms/step - loss: 0.0485 - acc: 0.9827 - val_loss: 0.6383 - val_acc: 0.7768\n",
      "Epoch 36/100\n",
      "404/404 [==============================] - 5s 13ms/step - loss: 0.0240 - acc: 0.9950 - val_loss: 0.7072 - val_acc: 0.7970\n",
      "Epoch 37/100\n",
      "404/404 [==============================] - 7s 19ms/step - loss: 0.0368 - acc: 0.9926 - val_loss: 1.3369 - val_acc: 0.5523\n",
      "Epoch 38/100\n",
      "404/404 [==============================] - 6s 15ms/step - loss: 0.0212 - acc: 0.9975 - val_loss: 0.4594 - val_acc: 0.8714\n",
      "Epoch 39/100\n",
      "404/404 [==============================] - 5s 13ms/step - loss: 0.0640 - acc: 0.9752 - val_loss: 2.5561 - val_acc: 0.3808\n",
      "Epoch 40/100\n",
      "404/404 [==============================] - 7s 17ms/step - loss: 0.0338 - acc: 0.9901 - val_loss: 1.0820 - val_acc: 0.7516\n",
      "Epoch 41/100\n",
      "404/404 [==============================] - 7s 16ms/step - loss: 0.0551 - acc: 0.9802 - val_loss: 0.8677 - val_acc: 0.7806\n",
      "Epoch 42/100\n",
      "404/404 [==============================] - 7s 16ms/step - loss: 0.0409 - acc: 0.9901 - val_loss: 1.1249 - val_acc: 0.6494\n",
      "Epoch 43/100\n",
      "320/404 [======================>.......] - ETA: 0s - loss: 0.0229 - acc: 0.9938"
     ]
    }
   ],
   "source": [
    "model.fit(x = X_train, y = Y_train, batch_size=batch_size, epochs=epochs,\n",
    "              validation_data=[X_test,Y_test],shuffle = True,\n",
    "              callbacks=[tensorboard])\n",
    "# metrics = model.evaluate(X_test, Y_test)"
   ]
  }
 ],
 "metadata": {
  "kernelspec": {
   "display_name": "Python 3",
   "language": "python",
   "name": "python3"
  },
  "language_info": {
   "codemirror_mode": {
    "name": "ipython",
    "version": 3
   },
   "file_extension": ".py",
   "mimetype": "text/x-python",
   "name": "python",
   "nbconvert_exporter": "python",
   "pygments_lexer": "ipython3",
   "version": "3.5.2"
  }
 },
 "nbformat": 4,
 "nbformat_minor": 2
}
