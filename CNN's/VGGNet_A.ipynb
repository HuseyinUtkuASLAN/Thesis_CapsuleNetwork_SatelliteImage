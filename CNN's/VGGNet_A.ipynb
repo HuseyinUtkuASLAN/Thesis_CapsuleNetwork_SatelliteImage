{
 "cells": [
  {
   "cell_type": "markdown",
   "metadata": {},
   "source": [
    "# VGGNet_A\n",
    "\n",
    "VGG_A is the architecture with fewest amount of layers in VGGNet paper(link below)\n",
    "\n",
    "VGGNet uses small kernel sizes (uses 3 except in VGGNet_C's 7th, 10th and 13th convolution layers) and stride 1. \n",
    "\n",
    "More information can be found in [VERY DEEP CONVOLUTIONAL NETWORKS\n",
    "FOR LARGE-SCALE IMAGE RECOGNITION](https://arxiv.org/pdf/1409.1556.pdf) by Karen Simonyan& Andrew Zisserman.\n",
    "\n",
    "### Architecture\n",
    "input -> conv3-64 -> maxpool -> conv3-128 -> maxpool -> conv3-256 -> conv3-256 -> maxpool -> conv3-512 -> conv3-512 -> maxpool -> conv3-512 -> conv3-512 -> maxpool -> flatten -> fc4096 -> fc4096 -> output\n",
    "\n",
    "### Note :\n",
    "Because of the small image sizes, paddings are changed to \"SAME\"."
   ]
  },
  {
   "cell_type": "code",
   "execution_count": 1,
   "metadata": {},
   "outputs": [
    {
     "name": "stderr",
     "output_type": "stream",
     "text": [
      "Using TensorFlow backend.\n"
     ]
    }
   ],
   "source": [
    "from keras.models import Sequential\n",
    "from keras.layers.core import Flatten, Dense, Dropout\n",
    "from keras.layers.convolutional import Convolution2D, MaxPooling2D\n",
    "from keras.layers.normalization import BatchNormalization\n",
    "from keras.layers import Input\n",
    "from keras.layers import Activation\n",
    "from keras.models import Model\n",
    "from keras.utils import to_categorical\n",
    "from keras.optimizers import SGD\n",
    "from keras.callbacks import TensorBoard"
   ]
  },
  {
   "cell_type": "code",
   "execution_count": 2,
   "metadata": {},
   "outputs": [],
   "source": [
    "from data import get_data_set"
   ]
  },
  {
   "cell_type": "code",
   "execution_count": 3,
   "metadata": {},
   "outputs": [],
   "source": [
    "# Args\n",
    "save_dir = \"./results\"\n",
    "batch_size = 64\n",
    "epochs = 100\n",
    "lr=0.001\n",
    "decay=0.0005\n",
    "momentum=0.9\n",
    "log_dir = \"./tensorboard/VGGNet_A_9x9_12/\"\n",
    "# originals\n",
    "# save_dir = \"./results\"\n",
    "# batch_size = 50\n",
    "# epochs = 50\n",
    "# lr=0.01\n",
    "# decay=0.0005\n",
    "# momentum=0.9"
   ]
  },
  {
   "cell_type": "code",
   "execution_count": 4,
   "metadata": {},
   "outputs": [
    {
     "data": {
      "text/plain": [
       "(404, 9, 9, 12)"
      ]
     },
     "execution_count": 4,
     "metadata": {},
     "output_type": "execute_result"
    }
   ],
   "source": [
    "X_train,Y_train = get_data_set(\"train\",input_path = \"../input/data_9x9_12band/\",one_hot = True)\n",
    "X_test,Y_test = get_data_set(\"test\",input_path = \"../input/data_9x9_12band/\", one_hot = True)\n",
    "\n",
    "X_train.shape"
   ]
  },
  {
   "cell_type": "code",
   "execution_count": null,
   "metadata": {},
   "outputs": [],
   "source": []
  },
  {
   "cell_type": "code",
   "execution_count": 5,
   "metadata": {},
   "outputs": [],
   "source": [
    "tensorboard = TensorBoard(log_dir=log_dir,batch_size=batch_size)"
   ]
  },
  {
   "cell_type": "code",
   "execution_count": null,
   "metadata": {},
   "outputs": [],
   "source": []
  },
  {
   "cell_type": "code",
   "execution_count": 6,
   "metadata": {},
   "outputs": [
    {
     "data": {
      "text/plain": [
       "<tf.Tensor 'input_1:0' shape=(?, 9, 9, 12) dtype=float32>"
      ]
     },
     "execution_count": 6,
     "metadata": {},
     "output_type": "execute_result"
    }
   ],
   "source": [
    "inputs = Input(X_train.shape[1:])\n",
    "inputs"
   ]
  },
  {
   "cell_type": "code",
   "execution_count": 7,
   "metadata": {},
   "outputs": [],
   "source": [
    "conv_1 = Convolution2D(64, kernel_size =(3, 3), strides=(1, 1), padding='same', activation='relu',\n",
    "                           name='conv_1')(inputs)\n",
    "conv_1 = MaxPooling2D((2, 2), strides=(2, 2), padding='same')(conv_1)"
   ]
  },
  {
   "cell_type": "code",
   "execution_count": 8,
   "metadata": {},
   "outputs": [],
   "source": [
    "conv_2 = Convolution2D(128, kernel_size =(3, 3), strides=(1, 1), padding='same', activation='relu',\n",
    "                           name='conv_2')(conv_1)\n",
    "conv_2 = MaxPooling2D((2, 2), strides=(2, 2), padding='same')(conv_2)"
   ]
  },
  {
   "cell_type": "code",
   "execution_count": 9,
   "metadata": {},
   "outputs": [],
   "source": [
    "conv_3 = Convolution2D(256, kernel_size =(3, 3), strides=(1, 1), padding='same', activation='relu',\n",
    "                           name='conv_3')(conv_2)\n",
    "conv_4 = Convolution2D(256, kernel_size =(3, 3), strides=(1, 1), padding='same', activation='relu',\n",
    "                           name='conv_4')(conv_3)\n",
    "conv_4 = MaxPooling2D((2, 2), strides=(2, 2), padding='same')(conv_4)"
   ]
  },
  {
   "cell_type": "code",
   "execution_count": 10,
   "metadata": {},
   "outputs": [],
   "source": [
    "conv_5 = Convolution2D(512, kernel_size =(3, 3), strides=(1, 1), padding='same', activation='relu',\n",
    "                           name='conv_5')(conv_4)\n",
    "conv_6 = Convolution2D(512, kernel_size =(3, 3), strides=(1, 1), padding='same', activation='relu',\n",
    "                           name='conv_6')(conv_5)\n",
    "conv_6 = MaxPooling2D((2, 2), strides=(2, 2), padding='same')(conv_6)"
   ]
  },
  {
   "cell_type": "code",
   "execution_count": 11,
   "metadata": {},
   "outputs": [],
   "source": [
    "conv_7 = Convolution2D(512, kernel_size =(3, 3), strides=(1, 1), padding='same', activation='relu',\n",
    "                           name='conv_7')(conv_6)\n",
    "conv_8 = Convolution2D(512, kernel_size =(3, 3), strides=(1, 1), padding='same', activation='relu',\n",
    "                           name='conv_8')(conv_7)\n",
    "conv_8 = MaxPooling2D((2, 2), strides=(2, 2), padding='same')(conv_8)"
   ]
  },
  {
   "cell_type": "code",
   "execution_count": 12,
   "metadata": {},
   "outputs": [],
   "source": [
    "dense_1 = Flatten(name='flatten')(conv_8)"
   ]
  },
  {
   "cell_type": "code",
   "execution_count": 13,
   "metadata": {},
   "outputs": [
    {
     "data": {
      "text/plain": [
       "<tf.Tensor 'softmax/Softmax:0' shape=(?, 4) dtype=float32>"
      ]
     },
     "execution_count": 13,
     "metadata": {},
     "output_type": "execute_result"
    }
   ],
   "source": [
    "dense_1 = Dense(4096, activation='relu', name='dense_1')(dense_1)\n",
    "dense_2 = Dropout(0.5)(dense_1)\n",
    "dense_2 = Dense(4096, activation='relu', name='dense_2')(dense_2)\n",
    "dense_3 = Dropout(0.5)(dense_2)\n",
    "dense_3 = Dense(Y_train.shape[1], name='dense_3')(dense_3)\n",
    "prediction = Activation('softmax', name='softmax')(dense_3)\n",
    "prediction"
   ]
  },
  {
   "cell_type": "code",
   "execution_count": 14,
   "metadata": {},
   "outputs": [],
   "source": [
    "model = Model(outputs=prediction,inputs = inputs)"
   ]
  },
  {
   "cell_type": "code",
   "execution_count": null,
   "metadata": {},
   "outputs": [],
   "source": []
  },
  {
   "cell_type": "markdown",
   "metadata": {},
   "source": [
    "# Lets train"
   ]
  },
  {
   "cell_type": "code",
   "execution_count": 15,
   "metadata": {},
   "outputs": [],
   "source": [
    "# optimizer\n",
    "sgd = SGD(lr=lr, decay=decay, momentum=momentum)"
   ]
  },
  {
   "cell_type": "code",
   "execution_count": 16,
   "metadata": {},
   "outputs": [],
   "source": [
    "model.compile(optimizer=sgd, loss='categorical_crossentropy',metrics=['accuracy'])"
   ]
  },
  {
   "cell_type": "code",
   "execution_count": 17,
   "metadata": {},
   "outputs": [
    {
     "name": "stdout",
     "output_type": "stream",
     "text": [
      "_________________________________________________________________\n",
      "Layer (type)                 Output Shape              Param #   \n",
      "=================================================================\n",
      "input_1 (InputLayer)         (None, 9, 9, 12)          0         \n",
      "_________________________________________________________________\n",
      "conv_1 (Conv2D)              (None, 9, 9, 64)          6976      \n",
      "_________________________________________________________________\n",
      "max_pooling2d_1 (MaxPooling2 (None, 5, 5, 64)          0         \n",
      "_________________________________________________________________\n",
      "conv_2 (Conv2D)              (None, 5, 5, 128)         73856     \n",
      "_________________________________________________________________\n",
      "max_pooling2d_2 (MaxPooling2 (None, 3, 3, 128)         0         \n",
      "_________________________________________________________________\n",
      "conv_3 (Conv2D)              (None, 3, 3, 256)         295168    \n",
      "_________________________________________________________________\n",
      "conv_4 (Conv2D)              (None, 3, 3, 256)         590080    \n",
      "_________________________________________________________________\n",
      "max_pooling2d_3 (MaxPooling2 (None, 2, 2, 256)         0         \n",
      "_________________________________________________________________\n",
      "conv_5 (Conv2D)              (None, 2, 2, 512)         1180160   \n",
      "_________________________________________________________________\n",
      "conv_6 (Conv2D)              (None, 2, 2, 512)         2359808   \n",
      "_________________________________________________________________\n",
      "max_pooling2d_4 (MaxPooling2 (None, 1, 1, 512)         0         \n",
      "_________________________________________________________________\n",
      "conv_7 (Conv2D)              (None, 1, 1, 512)         2359808   \n",
      "_________________________________________________________________\n",
      "conv_8 (Conv2D)              (None, 1, 1, 512)         2359808   \n",
      "_________________________________________________________________\n",
      "max_pooling2d_5 (MaxPooling2 (None, 1, 1, 512)         0         \n",
      "_________________________________________________________________\n",
      "flatten (Flatten)            (None, 512)               0         \n",
      "_________________________________________________________________\n",
      "dense_1 (Dense)              (None, 4096)              2101248   \n",
      "_________________________________________________________________\n",
      "dropout_1 (Dropout)          (None, 4096)              0         \n",
      "_________________________________________________________________\n",
      "dense_2 (Dense)              (None, 4096)              16781312  \n",
      "_________________________________________________________________\n",
      "dropout_2 (Dropout)          (None, 4096)              0         \n",
      "_________________________________________________________________\n",
      "dense_3 (Dense)              (None, 4)                 16388     \n",
      "_________________________________________________________________\n",
      "softmax (Activation)         (None, 4)                 0         \n",
      "=================================================================\n",
      "Total params: 28,124,612\n",
      "Trainable params: 28,124,612\n",
      "Non-trainable params: 0\n",
      "_________________________________________________________________\n"
     ]
    }
   ],
   "source": [
    "model.summary()"
   ]
  },
  {
   "cell_type": "code",
   "execution_count": 18,
   "metadata": {
    "scrolled": false
   },
   "outputs": [
    {
     "name": "stdout",
     "output_type": "stream",
     "text": [
      "Train on 404 samples, validate on 793 samples\n",
      "Epoch 1/100\n",
      "404/404 [==============================] - 11s 27ms/step - loss: 1.4749 - acc: 0.3119 - val_loss: 1.2061 - val_acc: 0.8045\n",
      "Epoch 2/100\n",
      "404/404 [==============================] - 10s 25ms/step - loss: 1.2525 - acc: 0.4406 - val_loss: 0.9912 - val_acc: 0.7125\n",
      "Epoch 3/100\n",
      "404/404 [==============================] - 11s 26ms/step - loss: 0.9463 - acc: 0.6683 - val_loss: 0.6082 - val_acc: 0.8045\n",
      "Epoch 4/100\n",
      "404/404 [==============================] - 11s 27ms/step - loss: 0.5784 - acc: 0.7822 - val_loss: 0.4076 - val_acc: 0.8651\n",
      "Epoch 5/100\n",
      "404/404 [==============================] - 10s 26ms/step - loss: 0.4515 - acc: 0.8465 - val_loss: 0.7392 - val_acc: 0.7554\n",
      "Epoch 6/100\n",
      "404/404 [==============================] - 13s 32ms/step - loss: 0.5259 - acc: 0.8267 - val_loss: 0.7410 - val_acc: 0.7427\n",
      "Epoch 7/100\n",
      "404/404 [==============================] - 10s 24ms/step - loss: 0.4338 - acc: 0.8465 - val_loss: 0.5012 - val_acc: 0.8588\n",
      "Epoch 8/100\n",
      "404/404 [==============================] - 10s 25ms/step - loss: 0.3507 - acc: 0.8812 - val_loss: 0.8886 - val_acc: 0.7440\n",
      "Epoch 9/100\n",
      "404/404 [==============================] - 10s 26ms/step - loss: 0.3885 - acc: 0.8738 - val_loss: 0.4590 - val_acc: 0.8474\n",
      "Epoch 10/100\n",
      "404/404 [==============================] - 10s 24ms/step - loss: 0.2506 - acc: 0.9282 - val_loss: 0.5000 - val_acc: 0.8398\n",
      "Epoch 11/100\n",
      "404/404 [==============================] - 10s 24ms/step - loss: 0.2100 - acc: 0.9282 - val_loss: 0.5640 - val_acc: 0.8310\n",
      "Epoch 12/100\n",
      "404/404 [==============================] - 10s 25ms/step - loss: 0.1426 - acc: 0.9505 - val_loss: 0.6267 - val_acc: 0.8272\n",
      "Epoch 13/100\n",
      "404/404 [==============================] - 11s 26ms/step - loss: 0.2365 - acc: 0.9183 - val_loss: 0.6655 - val_acc: 0.8146\n",
      "Epoch 14/100\n",
      "404/404 [==============================] - 10s 24ms/step - loss: 0.1957 - acc: 0.9406 - val_loss: 0.7007 - val_acc: 0.8197\n",
      "Epoch 15/100\n",
      "404/404 [==============================] - 10s 24ms/step - loss: 0.2077 - acc: 0.9233 - val_loss: 0.5601 - val_acc: 0.8373\n",
      "Epoch 16/100\n",
      "404/404 [==============================] - 10s 25ms/step - loss: 0.1733 - acc: 0.9381 - val_loss: 0.4274 - val_acc: 0.8777\n",
      "Epoch 17/100\n",
      "404/404 [==============================] - 10s 26ms/step - loss: 0.1254 - acc: 0.9554 - val_loss: 0.6681 - val_acc: 0.7919\n",
      "Epoch 18/100\n",
      "404/404 [==============================] - 10s 24ms/step - loss: 0.1000 - acc: 0.9678 - val_loss: 0.5888 - val_acc: 0.8537\n",
      "Epoch 19/100\n",
      "404/404 [==============================] - 10s 24ms/step - loss: 0.0696 - acc: 0.9728 - val_loss: 0.5220 - val_acc: 0.8651\n",
      "Epoch 20/100\n",
      "404/404 [==============================] - 10s 24ms/step - loss: 0.0501 - acc: 0.9827 - val_loss: 0.5508 - val_acc: 0.8525\n",
      "Epoch 21/100\n",
      "404/404 [==============================] - 10s 26ms/step - loss: 0.0536 - acc: 0.9802 - val_loss: 0.5684 - val_acc: 0.8613\n",
      "Epoch 22/100\n",
      "404/404 [==============================] - 10s 25ms/step - loss: 0.0640 - acc: 0.9851 - val_loss: 0.5839 - val_acc: 0.8689\n",
      "Epoch 23/100\n",
      "404/404 [==============================] - 10s 24ms/step - loss: 0.0506 - acc: 0.9802 - val_loss: 0.8691 - val_acc: 0.8285\n",
      "Epoch 24/100\n",
      "404/404 [==============================] - 10s 24ms/step - loss: 0.0717 - acc: 0.9728 - val_loss: 0.5619 - val_acc: 0.8638\n",
      "Epoch 25/100\n",
      "404/404 [==============================] - 10s 26ms/step - loss: 0.0293 - acc: 0.9926 - val_loss: 0.5882 - val_acc: 0.8512\n",
      "Epoch 26/100\n",
      "404/404 [==============================] - 10s 25ms/step - loss: 0.0142 - acc: 0.9975 - val_loss: 0.5584 - val_acc: 0.8739\n",
      "Epoch 27/100\n",
      "404/404 [==============================] - 10s 24ms/step - loss: 0.0348 - acc: 0.9851 - val_loss: 0.5992 - val_acc: 0.8663\n",
      "Epoch 28/100\n",
      "404/404 [==============================] - 10s 24ms/step - loss: 0.0359 - acc: 0.9876 - val_loss: 0.7903 - val_acc: 0.8499\n",
      "Epoch 29/100\n",
      "404/404 [==============================] - 10s 26ms/step - loss: 0.0585 - acc: 0.9802 - val_loss: 0.9525 - val_acc: 0.8083\n",
      "Epoch 30/100\n",
      "404/404 [==============================] - 11s 26ms/step - loss: 0.0770 - acc: 0.9728 - val_loss: 0.6660 - val_acc: 0.8550\n",
      "Epoch 31/100\n",
      "404/404 [==============================] - 13s 31ms/step - loss: 0.0252 - acc: 0.9926 - val_loss: 0.7967 - val_acc: 0.8361\n",
      "Epoch 32/100\n",
      "404/404 [==============================] - 10s 24ms/step - loss: 0.0133 - acc: 0.9975 - val_loss: 0.6317 - val_acc: 0.8689\n",
      "Epoch 33/100\n",
      "404/404 [==============================] - 8s 20ms/step - loss: 0.0154 - acc: 0.9975 - val_loss: 0.6986 - val_acc: 0.8436\n",
      "Epoch 34/100\n",
      "404/404 [==============================] - 11s 28ms/step - loss: 0.0093 - acc: 0.9975 - val_loss: 0.6875 - val_acc: 0.8613\n",
      "Epoch 35/100\n",
      "404/404 [==============================] - 10s 24ms/step - loss: 0.0097 - acc: 0.9950 - val_loss: 0.7236 - val_acc: 0.8512\n",
      "Epoch 36/100\n",
      "404/404 [==============================] - 10s 26ms/step - loss: 0.0041 - acc: 1.0000 - val_loss: 0.6857 - val_acc: 0.8714\n",
      "Epoch 37/100\n",
      "404/404 [==============================] - 10s 25ms/step - loss: 0.0049 - acc: 1.0000 - val_loss: 0.7388 - val_acc: 0.8575\n",
      "Epoch 38/100\n",
      "404/404 [==============================] - 10s 24ms/step - loss: 0.0051 - acc: 0.9975 - val_loss: 0.8573 - val_acc: 0.8424\n",
      "Epoch 39/100\n",
      "404/404 [==============================] - 10s 24ms/step - loss: 0.0057 - acc: 0.9975 - val_loss: 0.7090 - val_acc: 0.8651\n",
      "Epoch 40/100\n",
      "404/404 [==============================] - 10s 26ms/step - loss: 0.0060 - acc: 0.9975 - val_loss: 0.8642 - val_acc: 0.8436\n",
      "Epoch 41/100\n",
      "404/404 [==============================] - 10s 25ms/step - loss: 0.0053 - acc: 1.0000 - val_loss: 0.8865 - val_acc: 0.8499\n",
      "Epoch 42/100\n",
      "404/404 [==============================] - 10s 24ms/step - loss: 0.0273 - acc: 0.9876 - val_loss: 0.7963 - val_acc: 0.8499\n",
      "Epoch 43/100\n",
      "404/404 [==============================] - 10s 24ms/step - loss: 0.0183 - acc: 0.9950 - val_loss: 0.7394 - val_acc: 0.8588\n",
      "Epoch 44/100\n",
      "404/404 [==============================] - 10s 26ms/step - loss: 0.0396 - acc: 0.9851 - val_loss: 1.7350 - val_acc: 0.7301\n",
      "Epoch 45/100\n",
      "404/404 [==============================] - 11s 26ms/step - loss: 0.3399 - acc: 0.9158 - val_loss: 1.6742 - val_acc: 0.7440\n",
      "Epoch 46/100\n",
      "404/404 [==============================] - 13s 31ms/step - loss: 0.1479 - acc: 0.9480 - val_loss: 0.8479 - val_acc: 0.7894\n",
      "Epoch 47/100\n",
      "404/404 [==============================] - 10s 24ms/step - loss: 0.0738 - acc: 0.9777 - val_loss: 0.5724 - val_acc: 0.8537\n",
      "Epoch 48/100\n",
      "404/404 [==============================] - 10s 25ms/step - loss: 0.0383 - acc: 0.9901 - val_loss: 0.4931 - val_acc: 0.8777\n",
      "Epoch 49/100\n",
      "404/404 [==============================] - 10s 26ms/step - loss: 0.0328 - acc: 0.9901 - val_loss: 0.5674 - val_acc: 0.8726\n",
      "Epoch 50/100\n",
      "404/404 [==============================] - 10s 24ms/step - loss: 0.0180 - acc: 0.9975 - val_loss: 0.6306 - val_acc: 0.8588\n",
      "Epoch 51/100\n",
      "404/404 [==============================] - 10s 24ms/step - loss: 0.0093 - acc: 0.9975 - val_loss: 0.6200 - val_acc: 0.8600\n",
      "Epoch 52/100\n",
      "404/404 [==============================] - 10s 25ms/step - loss: 0.0124 - acc: 0.9975 - val_loss: 0.6174 - val_acc: 0.8600\n",
      "Epoch 53/100\n",
      "404/404 [==============================] - 10s 26ms/step - loss: 0.0064 - acc: 1.0000 - val_loss: 0.7133 - val_acc: 0.8462\n",
      "Epoch 54/100\n",
      "404/404 [==============================] - 10s 24ms/step - loss: 0.0136 - acc: 0.9975 - val_loss: 0.6983 - val_acc: 0.8562\n",
      "Epoch 55/100\n",
      "404/404 [==============================] - 10s 24ms/step - loss: 0.0132 - acc: 0.9926 - val_loss: 0.7301 - val_acc: 0.8550\n",
      "Epoch 56/100\n",
      "404/404 [==============================] - 13s 32ms/step - loss: 0.0144 - acc: 0.9950 - val_loss: 0.7115 - val_acc: 0.8525\n",
      "Epoch 57/100\n",
      "404/404 [==============================] - 10s 24ms/step - loss: 0.0140 - acc: 0.9950 - val_loss: 0.7014 - val_acc: 0.8651\n",
      "Epoch 58/100\n",
      "404/404 [==============================] - 10s 24ms/step - loss: 0.0045 - acc: 1.0000 - val_loss: 0.7537 - val_acc: 0.8487\n",
      "Epoch 59/100\n",
      "404/404 [==============================] - 11s 26ms/step - loss: 0.0037 - acc: 1.0000 - val_loss: 0.7412 - val_acc: 0.8613\n",
      "Epoch 60/100\n",
      "404/404 [==============================] - 10s 26ms/step - loss: 0.0012 - acc: 1.0000 - val_loss: 0.7225 - val_acc: 0.8613\n"
     ]
    },
    {
     "name": "stdout",
     "output_type": "stream",
     "text": [
      "Epoch 61/100\n",
      "404/404 [==============================] - 10s 24ms/step - loss: 0.0014 - acc: 1.0000 - val_loss: 0.7214 - val_acc: 0.8638\n",
      "Epoch 62/100\n",
      "404/404 [==============================] - 10s 24ms/step - loss: 0.0011 - acc: 1.0000 - val_loss: 0.7346 - val_acc: 0.8651\n",
      "Epoch 63/100\n",
      "404/404 [==============================] - 10s 25ms/step - loss: 0.0012 - acc: 1.0000 - val_loss: 0.7395 - val_acc: 0.8625\n",
      "Epoch 64/100\n",
      "404/404 [==============================] - 10s 26ms/step - loss: 9.2430e-04 - acc: 1.0000 - val_loss: 0.7562 - val_acc: 0.8651\n",
      "Epoch 65/100\n",
      "404/404 [==============================] - 13s 32ms/step - loss: 6.2545e-04 - acc: 1.0000 - val_loss: 0.7717 - val_acc: 0.8638\n",
      "Epoch 66/100\n",
      "404/404 [==============================] - 10s 24ms/step - loss: 5.7731e-04 - acc: 1.0000 - val_loss: 0.7868 - val_acc: 0.8638\n",
      "Epoch 67/100\n",
      "404/404 [==============================] - 10s 24ms/step - loss: 6.1357e-04 - acc: 1.0000 - val_loss: 0.7833 - val_acc: 0.8651\n",
      "Epoch 68/100\n",
      "404/404 [==============================] - 10s 25ms/step - loss: 5.4506e-04 - acc: 1.0000 - val_loss: 0.7921 - val_acc: 0.8651\n",
      "Epoch 69/100\n",
      "404/404 [==============================] - 10s 25ms/step - loss: 7.4218e-04 - acc: 1.0000 - val_loss: 0.8093 - val_acc: 0.8575\n",
      "Epoch 70/100\n",
      "404/404 [==============================] - 10s 24ms/step - loss: 7.4985e-04 - acc: 1.0000 - val_loss: 0.8186 - val_acc: 0.8562\n",
      "Epoch 71/100\n",
      "404/404 [==============================] - 10s 24ms/step - loss: 4.3636e-04 - acc: 1.0000 - val_loss: 0.8168 - val_acc: 0.8562\n",
      "Epoch 72/100\n",
      "404/404 [==============================] - 10s 25ms/step - loss: 4.1635e-04 - acc: 1.0000 - val_loss: 0.8147 - val_acc: 0.8575\n",
      "Epoch 73/100\n",
      "404/404 [==============================] - 10s 25ms/step - loss: 3.0298e-04 - acc: 1.0000 - val_loss: 0.8158 - val_acc: 0.8613\n",
      "Epoch 74/100\n",
      "404/404 [==============================] - 13s 32ms/step - loss: 4.7117e-04 - acc: 1.0000 - val_loss: 0.8166 - val_acc: 0.8613\n",
      "Epoch 75/100\n",
      "404/404 [==============================] - 10s 24ms/step - loss: 3.8808e-04 - acc: 1.0000 - val_loss: 0.8183 - val_acc: 0.8625\n",
      "Epoch 76/100\n",
      "404/404 [==============================] - 10s 24ms/step - loss: 2.7666e-04 - acc: 1.0000 - val_loss: 0.8183 - val_acc: 0.8625\n",
      "Epoch 77/100\n",
      "404/404 [==============================] - 10s 25ms/step - loss: 4.1280e-04 - acc: 1.0000 - val_loss: 0.8218 - val_acc: 0.8625\n",
      "Epoch 78/100\n",
      "404/404 [==============================] - 10s 25ms/step - loss: 3.9884e-04 - acc: 1.0000 - val_loss: 0.8232 - val_acc: 0.8613\n",
      "Epoch 79/100\n",
      "404/404 [==============================] - 10s 24ms/step - loss: 6.0175e-04 - acc: 1.0000 - val_loss: 0.8128 - val_acc: 0.8625\n",
      "Epoch 80/100\n",
      "404/404 [==============================] - 10s 24ms/step - loss: 5.4278e-04 - acc: 1.0000 - val_loss: 0.8263 - val_acc: 0.8625\n",
      "Epoch 81/100\n",
      "404/404 [==============================] - 10s 25ms/step - loss: 3.3370e-04 - acc: 1.0000 - val_loss: 0.8386 - val_acc: 0.8625\n",
      "Epoch 82/100\n",
      "404/404 [==============================] - 10s 25ms/step - loss: 3.3710e-04 - acc: 1.0000 - val_loss: 0.8448 - val_acc: 0.8613\n",
      "Epoch 83/100\n",
      "404/404 [==============================] - 13s 32ms/step - loss: 3.5594e-04 - acc: 1.0000 - val_loss: 0.8505 - val_acc: 0.8613\n",
      "Epoch 84/100\n",
      "404/404 [==============================] - 9s 23ms/step - loss: 3.2958e-04 - acc: 1.0000 - val_loss: 0.8573 - val_acc: 0.8588\n",
      "Epoch 85/100\n",
      "404/404 [==============================] - 10s 24ms/step - loss: 3.4616e-04 - acc: 1.0000 - val_loss: 0.8608 - val_acc: 0.8575\n",
      "Epoch 86/100\n",
      "404/404 [==============================] - 10s 25ms/step - loss: 3.6995e-04 - acc: 1.0000 - val_loss: 0.8498 - val_acc: 0.8613\n",
      "Epoch 87/100\n",
      "404/404 [==============================] - 10s 26ms/step - loss: 2.3969e-04 - acc: 1.0000 - val_loss: 0.8283 - val_acc: 0.8663\n",
      "Epoch 88/100\n",
      "404/404 [==============================] - 13s 31ms/step - loss: 3.0204e-04 - acc: 1.0000 - val_loss: 0.8263 - val_acc: 0.8676\n",
      "Epoch 89/100\n",
      "404/404 [==============================] - 10s 24ms/step - loss: 3.9865e-04 - acc: 1.0000 - val_loss: 0.8346 - val_acc: 0.8638\n",
      "Epoch 90/100\n",
      "404/404 [==============================] - 10s 24ms/step - loss: 3.9702e-04 - acc: 1.0000 - val_loss: 0.8529 - val_acc: 0.8638\n",
      "Epoch 91/100\n",
      "404/404 [==============================] - 10s 25ms/step - loss: 2.2958e-04 - acc: 1.0000 - val_loss: 0.8688 - val_acc: 0.8588\n",
      "Epoch 92/100\n",
      "404/404 [==============================] - 10s 25ms/step - loss: 2.7444e-04 - acc: 1.0000 - val_loss: 0.8756 - val_acc: 0.8588\n",
      "Epoch 93/100\n",
      "404/404 [==============================] - 8s 20ms/step - loss: 1.7227e-04 - acc: 1.0000 - val_loss: 0.8754 - val_acc: 0.8588\n",
      "Epoch 94/100\n",
      "404/404 [==============================] - 11s 27ms/step - loss: 2.9881e-04 - acc: 1.0000 - val_loss: 0.8682 - val_acc: 0.8613\n",
      "Epoch 95/100\n",
      "404/404 [==============================] - 11s 28ms/step - loss: 2.2792e-04 - acc: 1.0000 - val_loss: 0.8636 - val_acc: 0.8613\n",
      "Epoch 96/100\n",
      "404/404 [==============================] - 10s 24ms/step - loss: 2.1193e-04 - acc: 1.0000 - val_loss: 0.8638 - val_acc: 0.8625\n",
      "Epoch 97/100\n",
      "404/404 [==============================] - 10s 26ms/step - loss: 2.2506e-04 - acc: 1.0000 - val_loss: 0.8656 - val_acc: 0.8625\n",
      "Epoch 98/100\n",
      "404/404 [==============================] - 10s 24ms/step - loss: 3.4714e-04 - acc: 1.0000 - val_loss: 0.8658 - val_acc: 0.8613\n",
      "Epoch 99/100\n",
      "404/404 [==============================] - 10s 24ms/step - loss: 2.0759e-04 - acc: 1.0000 - val_loss: 0.8666 - val_acc: 0.8613\n",
      "Epoch 100/100\n",
      "404/404 [==============================] - 10s 24ms/step - loss: 1.9398e-04 - acc: 1.0000 - val_loss: 0.8693 - val_acc: 0.8613\n"
     ]
    },
    {
     "data": {
      "text/plain": [
       "<keras.callbacks.History at 0x7f1b71735ba8>"
      ]
     },
     "execution_count": 18,
     "metadata": {},
     "output_type": "execute_result"
    }
   ],
   "source": [
    "model.fit(x = X_train, y = Y_train, batch_size=batch_size, epochs=epochs,\n",
    "              validation_data=[X_test,Y_test],shuffle = True,\n",
    "              callbacks=[tensorboard])"
   ]
  },
  {
   "cell_type": "code",
   "execution_count": null,
   "metadata": {},
   "outputs": [],
   "source": []
  }
 ],
 "metadata": {
  "kernelspec": {
   "display_name": "Python 3",
   "language": "python",
   "name": "python3"
  },
  "language_info": {
   "codemirror_mode": {
    "name": "ipython",
    "version": 3
   },
   "file_extension": ".py",
   "mimetype": "text/x-python",
   "name": "python",
   "nbconvert_exporter": "python",
   "pygments_lexer": "ipython3",
   "version": "3.5.2"
  }
 },
 "nbformat": 4,
 "nbformat_minor": 2
}
