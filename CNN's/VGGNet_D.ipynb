{
 "cells": [
  {
   "cell_type": "markdown",
   "metadata": {},
   "source": [
    "# VGGNet_D or VGG16\n",
    "\n",
    "VGG_D is commonly known as VGG16 is considered to be a \"very deep network\" due to having 16 trainable layer.\n",
    "\n",
    "VGGNet uses small kernel sizes (uses 3 except in VGGNet_C's 7th, 10th and 13th convolution layers) and stride 1. \n",
    "\n",
    "More information can be found in [VERY DEEP CONVOLUTIONAL NETWORKS\n",
    "FOR LARGE-SCALE IMAGE RECOGNITION](https://arxiv.org/pdf/1409.1556.pdf) by Karen Simonyan& Andrew Zisserman.\n",
    "\n",
    "### Architecture\n",
    "input -> conv3-64 -> conv3-64 -> maxpool -> conv3-128 -> conv3-128 -> maxpool -> conv3-256 -> conv3-256 -> conv3-256 -> maxpool -> conv3-512 -> conv3-512 -> conv3-512 -> maxpool -> conv3-512 -> conv3-512 -> conv3-512 -> maxpool -> flatten -> fc4096 -> fc4096 -> output\n",
    "\n",
    "### Note :\n",
    "Because of the small image sizes, paddings are changed to \"SAME\"."
   ]
  },
  {
   "cell_type": "code",
   "execution_count": 1,
   "metadata": {},
   "outputs": [
    {
     "name": "stderr",
     "output_type": "stream",
     "text": [
      "Using TensorFlow backend.\n"
     ]
    }
   ],
   "source": [
    "from keras.models import Sequential\n",
    "from keras.layers.core import Flatten, Dense, Dropout\n",
    "from keras.layers.convolutional import Convolution2D, MaxPooling2D\n",
    "from keras.layers.normalization import BatchNormalization\n",
    "from keras.layers import Input\n",
    "from keras.layers import Activation\n",
    "from keras.models import Model\n",
    "from keras.utils import to_categorical\n",
    "from keras.optimizers import SGD\n",
    "from keras.callbacks import TensorBoard"
   ]
  },
  {
   "cell_type": "code",
   "execution_count": 2,
   "metadata": {},
   "outputs": [],
   "source": [
    "from data import get_data_set"
   ]
  },
  {
   "cell_type": "code",
   "execution_count": 3,
   "metadata": {},
   "outputs": [],
   "source": [
    "# Args\n",
    "save_dir = \"./results\"\n",
    "batch_size = 64\n",
    "epochs = 100\n",
    "lr=0.001\n",
    "decay=0.0005\n",
    "momentum=0.9\n",
    "log_dir = \"./tensorboard/VGGNet_D_9x9_12/\"\n",
    "# originals\n",
    "# save_dir = \"./results\"\n",
    "# batch_size = 50\n",
    "# epochs = 50\n",
    "# lr=0.01\n",
    "# decay=0.0005\n",
    "# momentum=0.9"
   ]
  },
  {
   "cell_type": "code",
   "execution_count": 4,
   "metadata": {},
   "outputs": [
    {
     "data": {
      "text/plain": [
       "(404, 9, 9, 12)"
      ]
     },
     "execution_count": 4,
     "metadata": {},
     "output_type": "execute_result"
    }
   ],
   "source": [
    "X_train,Y_train = get_data_set(\"train\",input_path = \"../input/data_9x9_12band/\",one_hot = True)\n",
    "X_test,Y_test = get_data_set(\"test\",input_path = \"../input/data_9x9_12band/\", one_hot = True)\n",
    "\n",
    "X_train.shape"
   ]
  },
  {
   "cell_type": "code",
   "execution_count": 5,
   "metadata": {},
   "outputs": [],
   "source": [
    "tensorboard = TensorBoard(log_dir=log_dir,batch_size=batch_size)"
   ]
  },
  {
   "cell_type": "code",
   "execution_count": 6,
   "metadata": {},
   "outputs": [
    {
     "data": {
      "text/plain": [
       "<tf.Tensor 'input_1:0' shape=(?, 9, 9, 12) dtype=float32>"
      ]
     },
     "execution_count": 6,
     "metadata": {},
     "output_type": "execute_result"
    }
   ],
   "source": [
    "inputs = Input(X_train.shape[1:])\n",
    "inputs"
   ]
  },
  {
   "cell_type": "code",
   "execution_count": 7,
   "metadata": {},
   "outputs": [],
   "source": [
    "conv_1 = Convolution2D(64, kernel_size =(3, 3), strides=(1, 1), padding='same', activation='relu',\n",
    "                           name='conv_1')(inputs)\n",
    "conv_2 = Convolution2D(64, kernel_size =(3, 3), strides=(1, 1), padding='same', activation='relu',\n",
    "                           name='conv_2')(conv_1)\n",
    "conv_2 = MaxPooling2D((2, 2), strides=(2, 2), padding='same')(conv_2)"
   ]
  },
  {
   "cell_type": "code",
   "execution_count": 8,
   "metadata": {},
   "outputs": [],
   "source": [
    "conv_3 = Convolution2D(128, kernel_size =(3, 3), strides=(1, 1), padding='same', activation='relu',\n",
    "                           name='conv_3')(conv_2)\n",
    "conv_4 = Convolution2D(128, kernel_size =(3, 3), strides=(1, 1), padding='same', activation='relu',\n",
    "                           name='conv_4')(conv_3)\n",
    "conv_4 = MaxPooling2D((2, 2), strides=(2, 2), padding='same')(conv_4)"
   ]
  },
  {
   "cell_type": "code",
   "execution_count": 9,
   "metadata": {},
   "outputs": [],
   "source": [
    "conv_5 = Convolution2D(256, kernel_size =(3, 3), strides=(1, 1), padding='same', activation='relu',\n",
    "                           name='conv_5')(conv_4)\n",
    "conv_6 = Convolution2D(256, kernel_size =(3, 3), strides=(1, 1), padding='same', activation='relu',\n",
    "                           name='conv_6')(conv_5)\n",
    "conv_7 = Convolution2D(256, kernel_size =(3, 3), strides=(1, 1), padding='same', activation='relu',\n",
    "                           name='conv_7')(conv_6)\n",
    "conv_7 = MaxPooling2D((2, 2), strides=(2, 2), padding='same')(conv_7)"
   ]
  },
  {
   "cell_type": "code",
   "execution_count": 10,
   "metadata": {},
   "outputs": [],
   "source": [
    "conv_8 = Convolution2D(512, kernel_size =(3, 3), strides=(1, 1), padding='same', activation='relu',\n",
    "                           name='conv_8')(conv_7)\n",
    "conv_9 = Convolution2D(512, kernel_size =(3, 3), strides=(1, 1), padding='same', activation='relu',\n",
    "                           name='conv_9')(conv_8)\n",
    "conv_10 = Convolution2D(512, kernel_size =(3, 3), strides=(1, 1), padding='same', activation='relu',\n",
    "                           name='conv_10')(conv_9)\n",
    "conv_10 = MaxPooling2D((2, 2), strides=(2, 2), padding='same')(conv_10)"
   ]
  },
  {
   "cell_type": "code",
   "execution_count": 11,
   "metadata": {},
   "outputs": [],
   "source": [
    "conv_11 = Convolution2D(512, kernel_size =(3, 3), strides=(1, 1), padding='same', activation='relu',\n",
    "                           name='conv_11')(conv_10)\n",
    "conv_12 = Convolution2D(512, kernel_size =(3, 3), strides=(1, 1), padding='same', activation='relu',\n",
    "                           name='conv_12')(conv_11)\n",
    "conv_13 = Convolution2D(512, kernel_size =(3, 3), strides=(1, 1), padding='same', activation='relu',\n",
    "                           name='conv_13')(conv_12)\n",
    "conv_13 = MaxPooling2D((2, 2), strides=(2, 2), padding='same')(conv_13)"
   ]
  },
  {
   "cell_type": "code",
   "execution_count": 12,
   "metadata": {},
   "outputs": [],
   "source": [
    "dense_1 = Flatten(name='flatten')(conv_13)"
   ]
  },
  {
   "cell_type": "code",
   "execution_count": 13,
   "metadata": {},
   "outputs": [
    {
     "data": {
      "text/plain": [
       "<tf.Tensor 'softmax/Softmax:0' shape=(?, 4) dtype=float32>"
      ]
     },
     "execution_count": 13,
     "metadata": {},
     "output_type": "execute_result"
    }
   ],
   "source": [
    "dense_1 = Dense(4096, activation='relu', name='dense_1')(dense_1)\n",
    "dense_2 = Dropout(0.5)(dense_1)\n",
    "dense_2 = Dense(4096, activation='relu', name='dense_2')(dense_2)\n",
    "dense_3 = Dropout(0.5)(dense_2)\n",
    "dense_3 = Dense(Y_train.shape[1], name='dense_3')(dense_3)\n",
    "prediction = Activation('softmax', name='softmax')(dense_3)\n",
    "prediction"
   ]
  },
  {
   "cell_type": "code",
   "execution_count": 14,
   "metadata": {},
   "outputs": [],
   "source": [
    "model = Model(outputs=prediction,inputs = inputs)"
   ]
  },
  {
   "cell_type": "markdown",
   "metadata": {},
   "source": [
    "# Lets train"
   ]
  },
  {
   "cell_type": "code",
   "execution_count": 15,
   "metadata": {},
   "outputs": [],
   "source": [
    "# optimizer\n",
    "sgd = SGD(lr=lr, decay=decay, momentum=momentum)"
   ]
  },
  {
   "cell_type": "code",
   "execution_count": 16,
   "metadata": {},
   "outputs": [],
   "source": [
    "model.compile(optimizer=sgd, loss='categorical_crossentropy',metrics=['accuracy'])"
   ]
  },
  {
   "cell_type": "code",
   "execution_count": 17,
   "metadata": {},
   "outputs": [
    {
     "name": "stdout",
     "output_type": "stream",
     "text": [
      "_________________________________________________________________\n",
      "Layer (type)                 Output Shape              Param #   \n",
      "=================================================================\n",
      "input_1 (InputLayer)         (None, 9, 9, 12)          0         \n",
      "_________________________________________________________________\n",
      "conv_1 (Conv2D)              (None, 9, 9, 64)          6976      \n",
      "_________________________________________________________________\n",
      "conv_2 (Conv2D)              (None, 9, 9, 64)          36928     \n",
      "_________________________________________________________________\n",
      "max_pooling2d_1 (MaxPooling2 (None, 5, 5, 64)          0         \n",
      "_________________________________________________________________\n",
      "conv_3 (Conv2D)              (None, 5, 5, 128)         73856     \n",
      "_________________________________________________________________\n",
      "conv_4 (Conv2D)              (None, 5, 5, 128)         147584    \n",
      "_________________________________________________________________\n",
      "max_pooling2d_2 (MaxPooling2 (None, 3, 3, 128)         0         \n",
      "_________________________________________________________________\n",
      "conv_5 (Conv2D)              (None, 3, 3, 256)         295168    \n",
      "_________________________________________________________________\n",
      "conv_6 (Conv2D)              (None, 3, 3, 256)         590080    \n",
      "_________________________________________________________________\n",
      "conv_7 (Conv2D)              (None, 3, 3, 256)         590080    \n",
      "_________________________________________________________________\n",
      "max_pooling2d_3 (MaxPooling2 (None, 2, 2, 256)         0         \n",
      "_________________________________________________________________\n",
      "conv_8 (Conv2D)              (None, 2, 2, 512)         1180160   \n",
      "_________________________________________________________________\n",
      "conv_9 (Conv2D)              (None, 2, 2, 512)         2359808   \n",
      "_________________________________________________________________\n",
      "conv_10 (Conv2D)             (None, 2, 2, 512)         2359808   \n",
      "_________________________________________________________________\n",
      "max_pooling2d_4 (MaxPooling2 (None, 1, 1, 512)         0         \n",
      "_________________________________________________________________\n",
      "conv_11 (Conv2D)             (None, 1, 1, 512)         2359808   \n",
      "_________________________________________________________________\n",
      "conv_12 (Conv2D)             (None, 1, 1, 512)         2359808   \n",
      "_________________________________________________________________\n",
      "conv_13 (Conv2D)             (None, 1, 1, 512)         2359808   \n",
      "_________________________________________________________________\n",
      "max_pooling2d_5 (MaxPooling2 (None, 1, 1, 512)         0         \n",
      "_________________________________________________________________\n",
      "flatten (Flatten)            (None, 512)               0         \n",
      "_________________________________________________________________\n",
      "dense_1 (Dense)              (None, 4096)              2101248   \n",
      "_________________________________________________________________\n",
      "dropout_1 (Dropout)          (None, 4096)              0         \n",
      "_________________________________________________________________\n",
      "dense_2 (Dense)              (None, 4096)              16781312  \n",
      "_________________________________________________________________\n",
      "dropout_2 (Dropout)          (None, 4096)              0         \n",
      "_________________________________________________________________\n",
      "dense_3 (Dense)              (None, 4)                 16388     \n",
      "_________________________________________________________________\n",
      "softmax (Activation)         (None, 4)                 0         \n",
      "=================================================================\n",
      "Total params: 33,618,820\n",
      "Trainable params: 33,618,820\n",
      "Non-trainable params: 0\n",
      "_________________________________________________________________\n"
     ]
    }
   ],
   "source": [
    "model.summary()"
   ]
  },
  {
   "cell_type": "code",
   "execution_count": 18,
   "metadata": {},
   "outputs": [
    {
     "name": "stdout",
     "output_type": "stream",
     "text": [
      "Train on 404 samples, validate on 793 samples\n",
      "Epoch 1/100\n",
      "404/404 [==============================] - 16s 40ms/step - loss: 1.3877 - acc: 0.2847 - val_loss: 1.3871 - val_acc: 0.3922\n",
      "Epoch 2/100\n",
      "404/404 [==============================] - 15s 38ms/step - loss: 1.3850 - acc: 0.3020 - val_loss: 1.3793 - val_acc: 0.2535\n",
      "Epoch 3/100\n",
      "404/404 [==============================] - 15s 36ms/step - loss: 1.3801 - acc: 0.3094 - val_loss: 1.3703 - val_acc: 0.2799\n",
      "Epoch 4/100\n",
      "404/404 [==============================] - 15s 37ms/step - loss: 1.3759 - acc: 0.3490 - val_loss: 1.3611 - val_acc: 0.4691\n",
      "Epoch 5/100\n",
      "404/404 [==============================] - 13s 33ms/step - loss: 1.3725 - acc: 0.3465 - val_loss: 1.3528 - val_acc: 0.5624\n",
      "Epoch 6/100\n",
      "404/404 [==============================] - 16s 40ms/step - loss: 1.3680 - acc: 0.3614 - val_loss: 1.3421 - val_acc: 0.5460\n",
      "Epoch 7/100\n",
      "404/404 [==============================] - 15s 36ms/step - loss: 1.3605 - acc: 0.3564 - val_loss: 1.3278 - val_acc: 0.3934\n",
      "Epoch 8/100\n",
      "404/404 [==============================] - 15s 36ms/step - loss: 1.3514 - acc: 0.3391 - val_loss: 1.3044 - val_acc: 0.3808\n",
      "Epoch 9/100\n",
      "404/404 [==============================] - 15s 38ms/step - loss: 1.3417 - acc: 0.3465 - val_loss: 1.2801 - val_acc: 0.3808\n",
      "Epoch 10/100\n",
      "404/404 [==============================] - 15s 37ms/step - loss: 1.3249 - acc: 0.3267 - val_loss: 1.2359 - val_acc: 0.3808\n",
      "Epoch 11/100\n",
      "404/404 [==============================] - 15s 37ms/step - loss: 1.3138 - acc: 0.3144 - val_loss: 1.1916 - val_acc: 0.3808\n",
      "Epoch 12/100\n",
      "404/404 [==============================] - 15s 37ms/step - loss: 1.2815 - acc: 0.3168 - val_loss: 1.1440 - val_acc: 0.4161\n",
      "Epoch 13/100\n",
      "404/404 [==============================] - 17s 43ms/step - loss: 1.2605 - acc: 0.3614 - val_loss: 1.0916 - val_acc: 0.6305\n",
      "Epoch 14/100\n",
      "404/404 [==============================] - 15s 38ms/step - loss: 1.1943 - acc: 0.4802 - val_loss: 1.0000 - val_acc: 0.6936\n",
      "Epoch 15/100\n",
      "404/404 [==============================] - 14s 34ms/step - loss: 1.1055 - acc: 0.5421 - val_loss: 0.8634 - val_acc: 0.6822\n",
      "Epoch 16/100\n",
      "404/404 [==============================] - 15s 38ms/step - loss: 0.9931 - acc: 0.5743 - val_loss: 0.8603 - val_acc: 0.6747\n",
      "Epoch 17/100\n",
      "404/404 [==============================] - 15s 38ms/step - loss: 0.9411 - acc: 0.5965 - val_loss: 0.7485 - val_acc: 0.6557\n",
      "Epoch 18/100\n",
      "404/404 [==============================] - 18s 44ms/step - loss: 0.7784 - acc: 0.6980 - val_loss: 2.6855 - val_acc: 0.4149\n",
      "Epoch 19/100\n",
      "404/404 [==============================] - 13s 32ms/step - loss: 1.2516 - acc: 0.5248 - val_loss: 0.6594 - val_acc: 0.7037\n",
      "Epoch 20/100\n",
      "404/404 [==============================] - 15s 38ms/step - loss: 0.8587 - acc: 0.6634 - val_loss: 0.6266 - val_acc: 0.8159\n",
      "Epoch 21/100\n",
      "404/404 [==============================] - 15s 38ms/step - loss: 0.6894 - acc: 0.7673 - val_loss: 0.8017 - val_acc: 0.7112\n",
      "Epoch 22/100\n",
      "404/404 [==============================] - 15s 37ms/step - loss: 0.6803 - acc: 0.7871 - val_loss: 0.7850 - val_acc: 0.7137\n",
      "Epoch 23/100\n",
      "404/404 [==============================] - 15s 37ms/step - loss: 0.5601 - acc: 0.8292 - val_loss: 0.8919 - val_acc: 0.6885\n",
      "Epoch 24/100\n",
      "404/404 [==============================] - 15s 36ms/step - loss: 0.4454 - acc: 0.8391 - val_loss: 0.9267 - val_acc: 0.7364\n",
      "Epoch 25/100\n",
      "404/404 [==============================] - 15s 37ms/step - loss: 0.4939 - acc: 0.8391 - val_loss: 1.9044 - val_acc: 0.4893\n",
      "Epoch 26/100\n",
      "404/404 [==============================] - 18s 45ms/step - loss: 0.7356 - acc: 0.7550 - val_loss: 0.6131 - val_acc: 0.7743\n",
      "Epoch 27/100\n",
      "404/404 [==============================] - 15s 37ms/step - loss: 0.3922 - acc: 0.8738 - val_loss: 0.4656 - val_acc: 0.8512\n",
      "Epoch 28/100\n",
      "404/404 [==============================] - 15s 37ms/step - loss: 0.3572 - acc: 0.8713 - val_loss: 0.8166 - val_acc: 0.7629\n",
      "Epoch 29/100\n",
      "404/404 [==============================] - 13s 33ms/step - loss: 0.3534 - acc: 0.8812 - val_loss: 0.5387 - val_acc: 0.8398\n",
      "Epoch 30/100\n",
      "404/404 [==============================] - 16s 39ms/step - loss: 0.3658 - acc: 0.8837 - val_loss: 0.5770 - val_acc: 0.8134\n",
      "Epoch 31/100\n",
      "404/404 [==============================] - 15s 37ms/step - loss: 0.3230 - acc: 0.8936 - val_loss: 0.4431 - val_acc: 0.8726\n",
      "Epoch 32/100\n",
      "404/404 [==============================] - 15s 38ms/step - loss: 0.2362 - acc: 0.9233 - val_loss: 0.5592 - val_acc: 0.8184\n",
      "Epoch 33/100\n",
      "404/404 [==============================] - 18s 44ms/step - loss: 0.2473 - acc: 0.9233 - val_loss: 0.5693 - val_acc: 0.8335\n",
      "Epoch 34/100\n",
      "404/404 [==============================] - 15s 36ms/step - loss: 0.3731 - acc: 0.8738 - val_loss: 0.3702 - val_acc: 0.8777\n",
      "Epoch 35/100\n",
      "404/404 [==============================] - 15s 36ms/step - loss: 0.2531 - acc: 0.9257 - val_loss: 0.5059 - val_acc: 0.8424\n",
      "Epoch 36/100\n",
      "404/404 [==============================] - 15s 37ms/step - loss: 0.2031 - acc: 0.9381 - val_loss: 0.6017 - val_acc: 0.8323\n",
      "Epoch 37/100\n",
      "404/404 [==============================] - 15s 37ms/step - loss: 0.3200 - acc: 0.9010 - val_loss: 0.6333 - val_acc: 0.8146\n",
      "Epoch 38/100\n",
      "404/404 [==============================] - 15s 37ms/step - loss: 0.2837 - acc: 0.9059 - val_loss: 0.4734 - val_acc: 0.8424\n",
      "Epoch 39/100\n",
      "404/404 [==============================] - 15s 37ms/step - loss: 0.2442 - acc: 0.9059 - val_loss: 0.4687 - val_acc: 0.8562\n",
      "Epoch 40/100\n",
      "404/404 [==============================] - 18s 44ms/step - loss: 0.1694 - acc: 0.9480 - val_loss: 0.6491 - val_acc: 0.8235\n",
      "Epoch 41/100\n",
      "404/404 [==============================] - 15s 37ms/step - loss: 0.1882 - acc: 0.9505 - val_loss: 0.9118 - val_acc: 0.7427\n",
      "Epoch 42/100\n",
      "404/404 [==============================] - 15s 37ms/step - loss: 0.3131 - acc: 0.8936 - val_loss: 0.5475 - val_acc: 0.8462\n",
      "Epoch 43/100\n",
      "404/404 [==============================] - 15s 37ms/step - loss: 0.3632 - acc: 0.8713 - val_loss: 0.6620 - val_acc: 0.7793\n",
      "Epoch 44/100\n",
      "404/404 [==============================] - 15s 37ms/step - loss: 0.2940 - acc: 0.8960 - val_loss: 0.5150 - val_acc: 0.8323\n",
      "Epoch 45/100\n",
      "404/404 [==============================] - 15s 37ms/step - loss: 0.2091 - acc: 0.9356 - val_loss: 0.5291 - val_acc: 0.8462\n",
      "Epoch 46/100\n",
      "404/404 [==============================] - 18s 44ms/step - loss: 0.2321 - acc: 0.9332 - val_loss: 0.9437 - val_acc: 0.7276\n",
      "Epoch 47/100\n",
      "404/404 [==============================] - 15s 36ms/step - loss: 0.2259 - acc: 0.9233 - val_loss: 0.6670 - val_acc: 0.8121\n",
      "Epoch 48/100\n",
      "404/404 [==============================] - 15s 37ms/step - loss: 0.2838 - acc: 0.9059 - val_loss: 0.5319 - val_acc: 0.8235\n",
      "Epoch 49/100\n",
      "404/404 [==============================] - 15s 37ms/step - loss: 0.1960 - acc: 0.9455 - val_loss: 0.3755 - val_acc: 0.8789\n",
      "Epoch 50/100\n",
      "404/404 [==============================] - 15s 37ms/step - loss: 0.1409 - acc: 0.9530 - val_loss: 0.6268 - val_acc: 0.8298\n",
      "Epoch 51/100\n",
      "404/404 [==============================] - 15s 37ms/step - loss: 0.1901 - acc: 0.9282 - val_loss: 0.8960 - val_acc: 0.7692\n",
      "Epoch 52/100\n",
      "404/404 [==============================] - 14s 36ms/step - loss: 0.2751 - acc: 0.9183 - val_loss: 0.7843 - val_acc: 0.7856\n",
      "Epoch 53/100\n",
      "404/404 [==============================] - 15s 36ms/step - loss: 0.1730 - acc: 0.9431 - val_loss: 0.5092 - val_acc: 0.8499\n",
      "Epoch 54/100\n",
      "404/404 [==============================] - 15s 36ms/step - loss: 0.1564 - acc: 0.9480 - val_loss: 0.6479 - val_acc: 0.8159\n",
      "Epoch 55/100\n",
      "404/404 [==============================] - 15s 37ms/step - loss: 0.1641 - acc: 0.9431 - val_loss: 0.3922 - val_acc: 0.8764\n",
      "Epoch 56/100\n",
      "404/404 [==============================] - 15s 37ms/step - loss: 0.1050 - acc: 0.9653 - val_loss: 0.4008 - val_acc: 0.8726\n",
      "Epoch 57/100\n",
      "404/404 [==============================] - 18s 45ms/step - loss: 0.0894 - acc: 0.9703 - val_loss: 0.4872 - val_acc: 0.8613\n",
      "Epoch 58/100\n",
      "404/404 [==============================] - 14s 36ms/step - loss: 0.0950 - acc: 0.9703 - val_loss: 0.6295 - val_acc: 0.8310\n",
      "Epoch 59/100\n",
      "404/404 [==============================] - 15s 37ms/step - loss: 0.0968 - acc: 0.9703 - val_loss: 0.5648 - val_acc: 0.8260\n",
      "Epoch 60/100\n",
      "404/404 [==============================] - 16s 39ms/step - loss: 0.0785 - acc: 0.9678 - val_loss: 0.4840 - val_acc: 0.8575\n"
     ]
    },
    {
     "name": "stdout",
     "output_type": "stream",
     "text": [
      "Epoch 61/100\n",
      "404/404 [==============================] - 18s 43ms/step - loss: 0.0554 - acc: 0.9777 - val_loss: 0.6739 - val_acc: 0.8184\n",
      "Epoch 62/100\n",
      "404/404 [==============================] - 20s 49ms/step - loss: 0.0771 - acc: 0.9728 - val_loss: 0.6689 - val_acc: 0.8272\n",
      "Epoch 63/100\n",
      "404/404 [==============================] - 17s 41ms/step - loss: 0.0531 - acc: 0.9752 - val_loss: 0.5682 - val_acc: 0.8424\n",
      "Epoch 64/100\n",
      "404/404 [==============================] - 20s 49ms/step - loss: 0.0644 - acc: 0.9777 - val_loss: 0.5892 - val_acc: 0.8474\n",
      "Epoch 65/100\n",
      "404/404 [==============================] - 17s 41ms/step - loss: 0.0703 - acc: 0.9827 - val_loss: 0.5203 - val_acc: 0.8676\n",
      "Epoch 66/100\n",
      "404/404 [==============================] - 20s 49ms/step - loss: 0.0466 - acc: 0.9777 - val_loss: 0.5907 - val_acc: 0.8512\n",
      "Epoch 67/100\n",
      "404/404 [==============================] - 17s 42ms/step - loss: 0.0911 - acc: 0.9703 - val_loss: 0.6244 - val_acc: 0.8462\n",
      "Epoch 68/100\n",
      "404/404 [==============================] - 16s 41ms/step - loss: 0.1918 - acc: 0.9455 - val_loss: 0.6958 - val_acc: 0.8096\n",
      "Epoch 69/100\n",
      "404/404 [==============================] - 20s 49ms/step - loss: 0.1244 - acc: 0.9579 - val_loss: 0.7929 - val_acc: 0.7768\n",
      "Epoch 70/100\n",
      "404/404 [==============================] - 22s 53ms/step - loss: 0.1023 - acc: 0.9554 - val_loss: 0.5249 - val_acc: 0.8588\n",
      "Epoch 71/100\n",
      "404/404 [==============================] - 20s 49ms/step - loss: 0.1229 - acc: 0.9505 - val_loss: 0.4579 - val_acc: 0.8701\n",
      "Epoch 72/100\n",
      "404/404 [==============================] - 20s 48ms/step - loss: 0.0966 - acc: 0.9604 - val_loss: 0.7522 - val_acc: 0.8108\n",
      "Epoch 73/100\n",
      "404/404 [==============================] - 19s 48ms/step - loss: 0.1274 - acc: 0.9579 - val_loss: 0.5199 - val_acc: 0.8613\n",
      "Epoch 74/100\n",
      "404/404 [==============================] - 20s 49ms/step - loss: 0.1326 - acc: 0.9381 - val_loss: 0.5202 - val_acc: 0.8361\n",
      "Epoch 75/100\n",
      "404/404 [==============================] - 18s 45ms/step - loss: 0.2118 - acc: 0.9332 - val_loss: 1.0580 - val_acc: 0.7188\n",
      "Epoch 76/100\n",
      "404/404 [==============================] - 15s 36ms/step - loss: 0.2830 - acc: 0.9233 - val_loss: 0.5932 - val_acc: 0.8134\n",
      "Epoch 77/100\n",
      "404/404 [==============================] - 15s 38ms/step - loss: 0.1679 - acc: 0.9381 - val_loss: 0.5080 - val_acc: 0.8424\n",
      "Epoch 78/100\n",
      "404/404 [==============================] - 16s 39ms/step - loss: 0.1948 - acc: 0.9406 - val_loss: 0.3921 - val_acc: 0.8865\n",
      "Epoch 79/100\n",
      "404/404 [==============================] - 19s 47ms/step - loss: 0.1067 - acc: 0.9579 - val_loss: 0.4815 - val_acc: 0.8600\n",
      "Epoch 80/100\n",
      "404/404 [==============================] - 19s 47ms/step - loss: 0.0692 - acc: 0.9728 - val_loss: 0.5464 - val_acc: 0.8651\n",
      "Epoch 81/100\n",
      "404/404 [==============================] - 20s 50ms/step - loss: 0.0425 - acc: 0.9827 - val_loss: 0.5717 - val_acc: 0.8537\n",
      "Epoch 82/100\n",
      "404/404 [==============================] - 20s 48ms/step - loss: 0.0348 - acc: 0.9876 - val_loss: 0.7336 - val_acc: 0.8222\n",
      "Epoch 83/100\n",
      "404/404 [==============================] - 20s 49ms/step - loss: 0.1169 - acc: 0.9653 - val_loss: 0.7237 - val_acc: 0.8285\n",
      "Epoch 84/100\n",
      "404/404 [==============================] - 16s 40ms/step - loss: 0.2077 - acc: 0.9356 - val_loss: 0.8889 - val_acc: 0.7617\n",
      "Epoch 85/100\n",
      "404/404 [==============================] - 19s 48ms/step - loss: 0.1103 - acc: 0.9480 - val_loss: 0.5051 - val_acc: 0.8487\n",
      "Epoch 86/100\n",
      "404/404 [==============================] - 19s 48ms/step - loss: 0.0614 - acc: 0.9827 - val_loss: 0.4331 - val_acc: 0.8701\n",
      "Epoch 87/100\n",
      "404/404 [==============================] - 19s 48ms/step - loss: 0.0732 - acc: 0.9728 - val_loss: 0.5123 - val_acc: 0.8600\n",
      "Epoch 88/100\n",
      "404/404 [==============================] - 16s 41ms/step - loss: 0.0510 - acc: 0.9827 - val_loss: 0.6335 - val_acc: 0.8398\n",
      "Epoch 89/100\n",
      "404/404 [==============================] - 16s 40ms/step - loss: 0.0341 - acc: 0.9901 - val_loss: 0.6440 - val_acc: 0.8449\n",
      "Epoch 90/100\n",
      "404/404 [==============================] - 16s 40ms/step - loss: 0.0253 - acc: 0.9926 - val_loss: 0.5918 - val_acc: 0.8600\n",
      "Epoch 91/100\n",
      "404/404 [==============================] - 19s 48ms/step - loss: 0.0329 - acc: 0.9876 - val_loss: 0.5814 - val_acc: 0.8613\n",
      "Epoch 92/100\n",
      "404/404 [==============================] - 20s 50ms/step - loss: 0.0244 - acc: 0.9901 - val_loss: 0.8647 - val_acc: 0.8235\n",
      "Epoch 93/100\n",
      "404/404 [==============================] - 21s 51ms/step - loss: 0.0351 - acc: 0.9851 - val_loss: 0.9542 - val_acc: 0.7995\n",
      "Epoch 94/100\n",
      "404/404 [==============================] - 20s 49ms/step - loss: 0.0467 - acc: 0.9802 - val_loss: 0.8482 - val_acc: 0.8247\n",
      "Epoch 95/100\n",
      "404/404 [==============================] - 20s 49ms/step - loss: 0.1345 - acc: 0.9455 - val_loss: 0.9797 - val_acc: 0.7793\n",
      "Epoch 96/100\n",
      "404/404 [==============================] - 20s 49ms/step - loss: 0.1415 - acc: 0.9431 - val_loss: 0.8858 - val_acc: 0.8071\n",
      "Epoch 97/100\n",
      "404/404 [==============================] - 18s 44ms/step - loss: 0.0830 - acc: 0.9678 - val_loss: 0.5276 - val_acc: 0.8613\n",
      "Epoch 98/100\n",
      "404/404 [==============================] - 21s 53ms/step - loss: 0.0298 - acc: 0.9926 - val_loss: 0.5633 - val_acc: 0.8613\n",
      "Epoch 99/100\n",
      "404/404 [==============================] - 16s 40ms/step - loss: 0.0334 - acc: 0.9926 - val_loss: 0.5087 - val_acc: 0.8575\n",
      "Epoch 100/100\n",
      "404/404 [==============================] - 16s 40ms/step - loss: 0.0184 - acc: 0.9975 - val_loss: 0.5629 - val_acc: 0.8625\n"
     ]
    },
    {
     "data": {
      "text/plain": [
       "<keras.callbacks.History at 0x7fcd7746ce80>"
      ]
     },
     "execution_count": 18,
     "metadata": {},
     "output_type": "execute_result"
    }
   ],
   "source": [
    "model.fit(x = X_train, y = Y_train, batch_size=batch_size, epochs=epochs,\n",
    "              validation_data=[X_test,Y_test],shuffle = True,\n",
    "              callbacks=[tensorboard])"
   ]
  }
 ],
 "metadata": {
  "kernelspec": {
   "display_name": "Python 3",
   "language": "python",
   "name": "python3"
  },
  "language_info": {
   "codemirror_mode": {
    "name": "ipython",
    "version": 3
   },
   "file_extension": ".py",
   "mimetype": "text/x-python",
   "name": "python",
   "nbconvert_exporter": "python",
   "pygments_lexer": "ipython3",
   "version": "3.5.2"
  }
 },
 "nbformat": 4,
 "nbformat_minor": 2
}
